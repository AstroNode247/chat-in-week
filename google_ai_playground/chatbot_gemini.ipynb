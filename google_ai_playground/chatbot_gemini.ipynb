{
 "cells": [
  {
   "cell_type": "code",
   "execution_count": 1,
   "metadata": {},
   "outputs": [],
   "source": [
    "from langchain_google_genai import ChatGoogleGenerativeAI\n",
    "from langchain_core.runnables import RunnableBranch\n",
    "from langchain_core.runnables.history import RunnableWithMessageHistory\n",
    "\n",
    "from langchain_community.chat_message_histories import ChatMessageHistory\n",
    "\n",
    "from dotenv import load_dotenv\n",
    "import requests\n",
    "import os\n",
    "\n",
    "load_dotenv()\n",
    "\n",
    "API_KEY = os.getenv('GOOGLE_API_KEY')"
   ]
  },
  {
   "cell_type": "code",
   "execution_count": 2,
   "metadata": {},
   "outputs": [],
   "source": [
    "# Google gemini for chat based interaction\n",
    "chat_model = ChatGoogleGenerativeAI(model='gemini-pro', temperature=0.2, google_api_key=API_KEY,\n",
    "                                    convert_system_message_to_human=True)"
   ]
  },
  {
   "cell_type": "code",
   "execution_count": 3,
   "metadata": {},
   "outputs": [],
   "source": [
    "from langchain_core.prompts import ChatPromptTemplate, MessagesPlaceholder, HumanMessagePromptTemplate, PromptTemplate\n",
    "\n",
    "# Prompt template for guiding the all chat conversation\n",
    "system_message = \"\"\"You are a helpful assistant. Answer all questions to the best of your ability with detailed and \n",
    "                    actionable response.\"\"\"\n",
    "system_prompt = ChatPromptTemplate.from_messages([('system', system_message), \n",
    "                                           MessagesPlaceholder(variable_name='messages')])\n",
    "\n",
    "# Chain the model with the \n",
    "chain = system_prompt | chat_model"
   ]
  },
  {
   "cell_type": "markdown",
   "metadata": {},
   "source": [
    "The `MessagesPlaceholder` above inserts chat messages passed into the chain’s input."
   ]
  },
  {
   "cell_type": "code",
   "execution_count": 4,
   "metadata": {},
   "outputs": [
    {
     "data": {
      "text/plain": [
       "AIMessage(content=\" J'aime la programmation.\")"
      ]
     },
     "execution_count": 4,
     "metadata": {},
     "output_type": "execute_result"
    }
   ],
   "source": [
    "from langchain_core.messages import HumanMessage, AIMessage\n",
    "\n",
    "prompt = 'Translate this sentence from English to French: I love programming.'\n",
    "chain.invoke(\n",
    "    {'messages': [HumanMessage(content=prompt)]}\n",
    ")"
   ]
  },
  {
   "cell_type": "markdown",
   "metadata": {},
   "source": [
    "That look greats, however, the model itself doesn't have the ability to sustain a normal conversation. Just see that,"
   ]
  },
  {
   "cell_type": "code",
   "execution_count": 5,
   "metadata": {},
   "outputs": [
    {
     "data": {
      "text/plain": [
       "AIMessage(content='I am a helpful assistant designed to provide information and answer questions to the best of my abilities. I am still under development, but I am learning new things every day.\\n\\nIf you have a question, please feel free to ask me. I will do my best to answer it.')"
      ]
     },
     "execution_count": 5,
     "metadata": {},
     "output_type": "execute_result"
    }
   ],
   "source": [
    "chain.invoke({'messages': [HumanMessage(content='What did you just say')]})"
   ]
  },
  {
   "cell_type": "markdown",
   "metadata": {},
   "source": [
    "You can see that he doesn't have any conception about the last conversation, and seem to be lost.\n",
    "\n",
    "Having a message history will fix this issue and allow him to track the previous conversation through history.    "
   ]
  },
  {
   "cell_type": "markdown",
   "metadata": {},
   "source": [
    "# Memory without RAG"
   ]
  },
  {
   "cell_type": "code",
   "execution_count": 6,
   "metadata": {},
   "outputs": [],
   "source": [
    "# Based on preference\n",
    "from langchain.memory import ConversationBufferMemory\n",
    "from langchain.chains import ConversationChain\n",
    "from langchain.schema import SystemMessage\n"
   ]
  },
  {
   "cell_type": "code",
   "execution_count": 7,
   "metadata": {},
   "outputs": [],
   "source": [
    "# Prompt template for guiding the all chat conversation\n",
    "system_message = \"You are a helpful assistant. Answer all questions to the best of your ability.\"\n",
    "system_prompt = ChatPromptTemplate.from_messages([\n",
    "        SystemMessage(content=system_message), \n",
    "        MessagesPlaceholder(variable_name='chat_history'),\n",
    "        HumanMessagePromptTemplate.from_template(\"{human_input}\")\n",
    "    ])"
   ]
  },
  {
   "cell_type": "code",
   "execution_count": 8,
   "metadata": {},
   "outputs": [],
   "source": [
    "from langchain.chains import LLMChain\n",
    "memory = ConversationBufferMemory(memory_key='chat_history', return_messages=True)\n",
    "conversation = LLMChain(llm=chat_model, prompt=system_prompt, memory=memory, verbose=False)"
   ]
  },
  {
   "cell_type": "code",
   "execution_count": 9,
   "metadata": {},
   "outputs": [
    {
     "data": {
      "text/plain": [
       "\"J'adore la programmation.\""
      ]
     },
     "execution_count": 9,
     "metadata": {},
     "output_type": "execute_result"
    }
   ],
   "source": [
    "prompt = 'Translate this sentence from English to French: I love programming.'\n",
    "conversation.predict(human_input=prompt)"
   ]
  },
  {
   "cell_type": "code",
   "execution_count": 10,
   "metadata": {},
   "outputs": [
    {
     "data": {
      "text/plain": [
       "'I just said \"I love programming\" in French.\\n\\nThe original sentence in English was \"I love programming.\" I used Google Translate to translate this sentence into French, which gave me the following result: \"J\\'adore la programmation.\"\\n\\nI hope this is helpful! Let me know if you have any other questions.'"
      ]
     },
     "execution_count": 10,
     "metadata": {},
     "output_type": "execute_result"
    }
   ],
   "source": [
    "conversation.predict(human_input='What did you just say')"
   ]
  },
  {
   "cell_type": "markdown",
   "metadata": {},
   "source": [
    "That look awesome, we have just introduce a memory to the chatbot. Now we can have a great conversation with it which allow us to use it in various application like assistant, client support or ecommerce. Also, we can use it by adding external data source to interact with which bring us to the next step **Retrieval**."
   ]
  },
  {
   "cell_type": "markdown",
   "metadata": {},
   "source": [
    "# Retrieval"
   ]
  },
  {
   "cell_type": "markdown",
   "metadata": {},
   "source": [
    "In this section, we will use Milvus as VectorStore to store all the information that the chatbot through all of the conversation. "
   ]
  },
  {
   "cell_type": "code",
   "execution_count": 11,
   "metadata": {},
   "outputs": [],
   "source": [
    "from langchain.text_splitter import RecursiveCharacterTextSplitter\n",
    "from langchain_community.vectorstores import Milvus\n",
    "from langchain_community.document_loaders import PyPDFLoader\n",
    "from langchain.chains import RetrievalQA\n",
    "\n",
    "from langchain_google_genai import GoogleGenerativeAIEmbeddings\n",
    "from pymilvus import connections, db, utility"
   ]
  },
  {
   "cell_type": "code",
   "execution_count": 12,
   "metadata": {},
   "outputs": [],
   "source": [
    "# Load new data\n",
    "loader = PyPDFLoader(\"Selling_the_Invisible_A_Field_Guide_to_M.pdf\")\n",
    "docs = loader.load()"
   ]
  },
  {
   "cell_type": "code",
   "execution_count": 13,
   "metadata": {
    "scrolled": true
   },
   "outputs": [],
   "source": [
    "# Embeddings\n",
    "embeddings = GoogleGenerativeAIEmbeddings(model=\"models/embedding-001\", google_api_key=API_KEY)\n",
    "\n",
    "# Document Splitter\n",
    "text_splitter = RecursiveCharacterTextSplitter(\n",
    "        chunk_size=500,\n",
    "        chunk_overlap=100\n",
    "    )\n",
    "docs_splitted = text_splitter.split_documents(docs)\n",
    "\n",
    "# Vectore store\n",
    "connection_args = {\"host\": \"127.0.0.1\", \"port\": \"19530\"}\n",
    "vector_store = Milvus(embeddings, connection_args=connection_args, \n",
    "                      collection_name='Selling_Invisible')\n",
    "\n",
    "# k is the number of chunks to retrieve\n",
    "retriever = vector_store.as_retriever()"
   ]
  },
  {
   "cell_type": "code",
   "execution_count": 14,
   "metadata": {},
   "outputs": [],
   "source": [
    "from langchain.chains.combine_documents import create_stuff_documents_chain\n",
    "\n",
    "SYSTEM_TEMPLATE = \"\"\"\n",
    "Answer the user's questions based on the below context.\n",
    "\n",
    "<context>\n",
    "{context}\n",
    "</context>\n",
    "\"\"\" \n",
    "\n",
    "question_answering_prompt = ChatPromptTemplate.from_messages(\n",
    "    [(\"system\", SYSTEM_TEMPLATE), MessagesPlaceholder(variable_name=\"messages\")]\n",
    ")\n",
    "document_chain = create_stuff_documents_chain(chat_model, question_answering_prompt)"
   ]
  },
  {
   "cell_type": "code",
   "execution_count": 15,
   "metadata": {},
   "outputs": [
    {
     "data": {
      "text/plain": [
       "'The context does not provide information on how to sell a service.'"
      ]
     },
     "execution_count": 15,
     "metadata": {},
     "output_type": "execute_result"
    }
   ],
   "source": [
    "document_chain.invoke({\n",
    "    \"context\": retriever.invoke(\"How to sell a service ?\"),\n",
    "    \"messages\": [HumanMessage(content=\"How to sell a service ?\")]\n",
    "})"
   ]
  },
  {
   "cell_type": "markdown",
   "metadata": {},
   "source": [
    "Assembling stuff."
   ]
  },
  {
   "cell_type": "code",
   "execution_count": 16,
   "metadata": {},
   "outputs": [],
   "source": [
    "from langchain_core.runnables import RunnablePassthrough\n",
    "from typing import Dict\n",
    "\n",
    "def parse_retriever_input(params: Dict):\n",
    "    return params[\"messages\"][-1].content\n",
    "\n",
    "retrieval_chains = RunnablePassthrough.assign(context=parse_retriever_input | retriever,).assign(answer=document_chain)"
   ]
  },
  {
   "cell_type": "code",
   "execution_count": 17,
   "metadata": {},
   "outputs": [
    {
     "data": {
      "text/plain": [
       "{'messages': [HumanMessage(content='How to sell a service ?')],\n",
       " 'context': [Document(page_content='• Tell people in a single sentence why they should buy from you. \\n• Advertise. \\n• Make your service easy to order or buy. \\n• Talk about the other person, not yourself. \\n• Show that you care passionately about your clients’ business. \\n• Write a mission statement and keep it private. \\n• Draw a clear map. After every missi on statement, add an objectives statement. \\n• If the mission statement doesn’t inspire people to act, change it.', metadata={'source': 'Selling_the_Invisible_A_Field_Guide_to_M.pdf', 'page': 8}),\n",
       "  Document(page_content='are buying an experience. \\n \\nIf you are selling a service, you’re  actually selling a relationship. \\n \\nBefore you try to satisfy your client, understand and satisfy the person. That means knowing his \\nlikes, hobbies, pets, family life, dreams and goals. \\n \\nYour real competition is sitting across the table from you. Plan accordingly. \\n \\nYour prospect faces three options: using your servic e, doing it themselves, or not doing it at all.', metadata={'source': 'Selling_the_Invisible_A_Field_Guide_to_M.pdf', 'page': 3}),\n",
       "  Document(page_content='Make every employee a marketer. The fastest, c heapest way to market your service is through \\nyour employees. Every act, ever y smile, or telephone call is a marketing act upon which your \\nsuccess depends.', metadata={'source': 'Selling_the_Invisible_A_Field_Guide_to_M.pdf', 'page': 2}),\n",
       "  Document(page_content='Selling The Invisible  Page 3 \\nwww.bizsum.com   © 2001, 2002 Copyright BusinessSummaries.com where companies like Disney, FedEx, or Lex us are, giving customers an experience far \\nbeyond anything they could have imagined. \\n \\n• Create the possible service. Don’t just creat e what the market needs or wants. Create \\nwhat it would love. \\n \\n• When conducting a survey, phone or oral surv eys are better methods because you can', metadata={'source': 'Selling_the_Invisible_A_Field_Guide_to_M.pdf', 'page': 2})],\n",
       " 'answer': 'The context does not provide information on how to sell a service.'}"
      ]
     },
     "execution_count": 17,
     "metadata": {},
     "output_type": "execute_result"
    }
   ],
   "source": [
    "retrieval_chains.invoke({\n",
    "    \"messages\": [HumanMessage(content=\"How to sell a service ?\")]\n",
    "})"
   ]
  },
  {
   "cell_type": "code",
   "execution_count": 18,
   "metadata": {},
   "outputs": [
    {
     "data": {
      "text/plain": [
       "[Document(page_content='Last word: Take the risk. Get out there and let opportunity hit you.', metadata={'source': 'Selling_the_Invisible_A_Field_Guide_to_M.pdf', 'page': 9}),\n",
       " Document(page_content='subscriptions if reply forms are ready and postage has been paid for. Forget looking \\nlike the superior choice, focus on being an ex cellent choice. Eliminate anything that \\nmakes you a bad choice.', metadata={'source': 'Selling_the_Invisible_A_Field_Guide_to_M.pdf', 'page': 5}),\n",
       " Document(page_content='• Tell people in a single sentence why they should buy from you. \\n• Advertise. \\n• Make your service easy to order or buy. \\n• Talk about the other person, not yourself. \\n• Show that you care passionately about your clients’ business. \\n• Write a mission statement and keep it private. \\n• Draw a clear map. After every missi on statement, add an objectives statement. \\n• If the mission statement doesn’t inspire people to act, change it.', metadata={'source': 'Selling_the_Invisible_A_Field_Guide_to_M.pdf', 'page': 8}),\n",
       " Document(page_content='Make every employee a marketer. The fastest, c heapest way to market your service is through \\nyour employees. Every act, ever y smile, or telephone call is a marketing act upon which your \\nsuccess depends.', metadata={'source': 'Selling_the_Invisible_A_Field_Guide_to_M.pdf', 'page': 2})]"
      ]
     },
     "execution_count": 18,
     "metadata": {},
     "output_type": "execute_result"
    }
   ],
   "source": [
    "retriever.invoke(\"Tell me more!\")"
   ]
  },
  {
   "cell_type": "markdown",
   "metadata": {},
   "source": [
    "## Query transformation"
   ]
  },
  {
   "cell_type": "code",
   "execution_count": 19,
   "metadata": {},
   "outputs": [],
   "source": [
    "from langchain_core.output_parsers import StrOutputParser\n",
    "from langchain_core.runnables import RunnableBranch\n",
    "\n",
    "QUERY_SYSTEM_TEMPLATE = \"\"\"Answer the user's questions based on the below context. \"\"\" \n",
    "query_transform_prompt = ChatPromptTemplate.from_messages([\n",
    "    (\"system\", QUERY_SYSTEM_TEMPLATE),\n",
    "    MessagesPlaceholder(variable_name=\"messages\")\n",
    "])\n",
    "\n",
    "query_transforming_retriever_chain = RunnableBranch(\n",
    "    (\n",
    "        lambda x: len(x.get(\"messages\", [])) == 1,\n",
    "        (lambda x: x[\"messages\"][-1].content) | retriever\n",
    "    ),\n",
    "    query_transform_prompt | chat_model | StrOutputParser() | retriever\n",
    ").with_config(run_name=\"chat_retriever_chain\")"
   ]
  },
  {
   "cell_type": "code",
   "execution_count": 20,
   "metadata": {},
   "outputs": [
    {
     "data": {
      "text/plain": [
       "AIMessage(content=\"To sell a service, focus on the customer's needs and make it easy for them to buy from you.\")"
      ]
     },
     "execution_count": 20,
     "metadata": {},
     "output_type": "execute_result"
    }
   ],
   "source": [
    "query_transform_chain = query_transform_prompt | chat_model\n",
    "\n",
    "query_transform_chain.invoke({\n",
    "    \"messages\": [\n",
    "        HumanMessage(content=\"How to sell a service ?\"),\n",
    "        AIMessage(content='• Tell people in a single sentence why they should buy from you. \\n• Advertise. \\n• Make your service easy to order or buy. \\n• Talk about the other person, not yourself. \\n• Show that you care passionately about your clients’ business.'),\n",
    "        HumanMessage(content=\"Summarize!\")\n",
    "    ]\n",
    "})"
   ]
  },
  {
   "cell_type": "code",
   "execution_count": 21,
   "metadata": {},
   "outputs": [],
   "source": [
    "conversation_retriever_chain = RunnablePassthrough.assign(\n",
    "    context=query_transforming_retriever_chain\n",
    ").assign(answer=document_chain)"
   ]
  },
  {
   "cell_type": "code",
   "execution_count": 22,
   "metadata": {
    "scrolled": true
   },
   "outputs": [
    {
     "data": {
      "text/plain": [
       "{'messages': [HumanMessage(content='How to sell a service ?')],\n",
       " 'context': [Document(page_content='• Tell people in a single sentence why they should buy from you. \\n• Advertise. \\n• Make your service easy to order or buy. \\n• Talk about the other person, not yourself. \\n• Show that you care passionately about your clients’ business. \\n• Write a mission statement and keep it private. \\n• Draw a clear map. After every missi on statement, add an objectives statement. \\n• If the mission statement doesn’t inspire people to act, change it.', metadata={'source': 'Selling_the_Invisible_A_Field_Guide_to_M.pdf', 'page': 8}),\n",
       "  Document(page_content='are buying an experience. \\n \\nIf you are selling a service, you’re  actually selling a relationship. \\n \\nBefore you try to satisfy your client, understand and satisfy the person. That means knowing his \\nlikes, hobbies, pets, family life, dreams and goals. \\n \\nYour real competition is sitting across the table from you. Plan accordingly. \\n \\nYour prospect faces three options: using your servic e, doing it themselves, or not doing it at all.', metadata={'source': 'Selling_the_Invisible_A_Field_Guide_to_M.pdf', 'page': 3}),\n",
       "  Document(page_content='Make every employee a marketer. The fastest, c heapest way to market your service is through \\nyour employees. Every act, ever y smile, or telephone call is a marketing act upon which your \\nsuccess depends.', metadata={'source': 'Selling_the_Invisible_A_Field_Guide_to_M.pdf', 'page': 2}),\n",
       "  Document(page_content='Selling The Invisible  Page 3 \\nwww.bizsum.com   © 2001, 2002 Copyright BusinessSummaries.com where companies like Disney, FedEx, or Lex us are, giving customers an experience far \\nbeyond anything they could have imagined. \\n \\n• Create the possible service. Don’t just creat e what the market needs or wants. Create \\nwhat it would love. \\n \\n• When conducting a survey, phone or oral surv eys are better methods because you can', metadata={'source': 'Selling_the_Invisible_A_Field_Guide_to_M.pdf', 'page': 2})],\n",
       " 'answer': '- Understand and satisfy the person before you try to satisfy your client.\\n- Make every employee a marketer.\\n- Create the possible service.'}"
      ]
     },
     "execution_count": 22,
     "metadata": {},
     "output_type": "execute_result"
    }
   ],
   "source": [
    "conversation_retriever_chain.invoke(\n",
    "    {\n",
    "        \"messages\": [HumanMessage(content=\"How to sell a service ?\")]\n",
    "    }\n",
    ")"
   ]
  },
  {
   "cell_type": "code",
   "execution_count": 23,
   "metadata": {
    "scrolled": true
   },
   "outputs": [
    {
     "data": {
      "text/plain": [
       "{'messages': [HumanMessage(content='How to sell a service ?'),\n",
       "  AIMessage(content='- Tell people in a single sentence why they should buy from you.\\n- Advertise.\\n- Make your service easy to order or buy.\\n- Talk about the other person, not yourself.\\n- Show that you care passionately about your clients’ business.'),\n",
       "  HumanMessage(content='Tell me more!')],\n",
       " 'context': [Document(page_content='• Tell people in a single sentence why they should buy from you. \\n• Advertise. \\n• Make your service easy to order or buy. \\n• Talk about the other person, not yourself. \\n• Show that you care passionately about your clients’ business. \\n• Write a mission statement and keep it private. \\n• Draw a clear map. After every missi on statement, add an objectives statement. \\n• If the mission statement doesn’t inspire people to act, change it.', metadata={'source': 'Selling_the_Invisible_A_Field_Guide_to_M.pdf', 'page': 8}),\n",
       "  Document(page_content='are buying an experience. \\n \\nIf you are selling a service, you’re  actually selling a relationship. \\n \\nBefore you try to satisfy your client, understand and satisfy the person. That means knowing his \\nlikes, hobbies, pets, family life, dreams and goals. \\n \\nYour real competition is sitting across the table from you. Plan accordingly. \\n \\nYour prospect faces three options: using your servic e, doing it themselves, or not doing it at all.', metadata={'source': 'Selling_the_Invisible_A_Field_Guide_to_M.pdf', 'page': 3}),\n",
       "  Document(page_content='To broaden your appeal, narrow your position. \\n \\nPosition yourself as the expert at the most difficult  task in your service. What tells people that if \\nyou can handle this problem, you can naturally handle the easier ones too? \\n \\nSay one positive thing and you will become associated with many. \\n \\nIf you cannot see the differences in your service, look harder. \\n \\nNo company can position itself as anything. A pos ition is how you are perceived in the minds of', metadata={'source': 'Selling_the_Invisible_A_Field_Guide_to_M.pdf', 'page': 6}),\n",
       "  Document(page_content='examples to make your point. Never use two words when one will do.  \\n• Prove your service quality. Be hones t. Tricks and gimmicks are not the key. \\n• If you think your promotional idea is silly or unprofessional, it is. \\n• Prospects buy how good you are at who you are. \\n• Convey that you are positively good. Do not try to say you are the best or superior. \\nPeople like to feel you are comfor table like a pair of old slippers. \\n• It is always better to say too little than too much.', metadata={'source': 'Selling_the_Invisible_A_Field_Guide_to_M.pdf', 'page': 8})],\n",
       " 'answer': '**How to sell a service**\\n\\n1. **Tell people in a single sentence why they should buy from you.**\\n\\nYour value proposition should be clear and concise, and it should highlight what makes your service unique and valuable. For example, \"We help businesses grow their revenue by 20% in 6 months.\"\\n\\n2. **Advertise.**\\n\\nGet the word out about your service through advertising. This could include online advertising, print advertising, or even word-of-mouth marketing.\\n\\n3. **Make your service easy to order or buy.**\\n\\nMake it easy for potential customers to do business with you. This means having a clear and simple ordering process, and making it easy to pay for your service.\\n\\n4. **Talk about the other person, not yourself.**\\n\\nWhen you\\'re selling a service, it\\'s important to focus on the needs of the customer. Talk about how your service can help them achieve their goals, and avoid talking about yourself or your company too much.\\n\\n5. **Show that you care passionately about your clients’ business.**\\n\\nCustomers want to know that you\\'re invested in their success. Show them that you care about their business by going the extra mile, and by being responsive to their needs.\\n\\n6. **Write a mission statement and keep it private.**\\n\\nA mission statement is a statement of your company\\'s purpose. It should be clear, concise, and inspiring. Keep your mission statement private, so that you can focus on your customers\\' needs, rather than on your own company\\'s goals.\\n\\n7. **Draw a clear map. After every mission statement, add an objectives statement.**\\n\\nAn objectives statement is a statement of how you plan to achieve your mission. It should be specific, measurable, achievable, relevant, and time-bound.\\n\\n8. **If the mission statement doesn’t inspire people to act, change it.**\\n\\nYour mission statement should inspire your team to action. If it doesn\\'t, then it\\'s not a good mission statement. Change it until it does.\\n\\n9. **Prove your service quality. Be honest. Tricks and gimmicks are not the key.**\\n\\nThe best way to prove your service quality is to be honest and upfront about what you can and cannot do. Don\\'t make promises that you can\\'t keep, and don\\'t try to trick or gimmick your customers.\\n\\n10. **If you think your promotional idea is silly or unprofessional, it is.**\\n\\nYour promotional ideas should be professional and respectful of your customers. If you think an idea is silly or unprofessional, then it probably is. Don\\'t use it.\\n\\n11. **Prospects buy how good you are at who you are.**\\n\\nCustomers want to buy from people they like and trust. Be yourself, and let your personality shine through in your sales pitch.\\n\\n12. **Convey that you are positively good. Do not try to say you are the best or superior.**\\n\\nCustomers are more likely to be turned off by a sales pitch that is too aggressive or boastful. Instead, focus on conveying that you are positively good at what you do.\\n\\n13. **People like to feel you are comfortable like a pair of old slippers.**\\n\\nCustomers want to feel comfortable doing business with you. Be friendly, approachable, and easy to talk to.\\n\\n14. **It is always better to say too little than too much.**\\n\\nWhen it comes to sales, it\\'s always better to say too little than too much. Leave your customers wanting more, and they\\'ll be more likely to come back for more.'}"
      ]
     },
     "execution_count": 23,
     "metadata": {},
     "output_type": "execute_result"
    }
   ],
   "source": [
    "conversation_retriever_chain.invoke(\n",
    "    {\n",
    "        \"messages\": [\n",
    "            HumanMessage(content=\"How to sell a service ?\"),\n",
    "            AIMessage(\n",
    "                content=\"- Tell people in a single sentence why they should buy from you.\\n- Advertise.\\n- Make your service easy to order or buy.\\n- Talk about the other person, not yourself.\\n- Show that you care passionately about your clients’ business.\"\n",
    "            ),\n",
    "            HumanMessage(content=\"Tell me more!\"),\n",
    "        ],\n",
    "    }\n",
    ")"
   ]
  },
  {
   "cell_type": "markdown",
   "metadata": {},
   "source": [
    "## Add memory to query transformation"
   ]
  },
  {
   "cell_type": "code",
   "execution_count": 24,
   "metadata": {},
   "outputs": [],
   "source": [
    "chat_history = ChatMessageHistory()\n",
    "ASSISTANT_PROMPT = \"You're a helpful assistant that help human to reach their goal\"\n",
    "query_conversation_prompt = ChatPromptTemplate.from_messages([\n",
    "    (\"system\", QUERY_SYSTEM_TEMPLATE),\n",
    "    MessagesPlaceholder(variable_name=\"chat_history\"),\n",
    "    (\"human\", \"{input}\")\n",
    "])\n",
    "\n",
    "query_transforming_chain = query_conversation_prompt | chat_model\n",
    "query_transforming_chain_with_history = RunnableWithMessageHistory(\n",
    "    query_transforming_chain,\n",
    "    lambda session_id: chat_history,\n",
    "    input_messages_key=\"input\",\n",
    "    history_messages_key=\"chat_history\"\n",
    ")"
   ]
  },
  {
   "cell_type": "code",
   "execution_count": 25,
   "metadata": {},
   "outputs": [],
   "source": [
    "query_transforming_retriever_chain = RunnableBranch(\n",
    "    (\n",
    "        lambda x: len(x.get(\"chat_history\", [])) == 1,\n",
    "        (lambda x: x[\"chat_history\"][-1].content) | retriever\n",
    "    ),\n",
    "    query_transforming_chain_with_history | StrOutputParser() | retriever\n",
    ").with_config(run_name=\"chat_mode\")"
   ]
  },
  {
   "cell_type": "code",
   "execution_count": 26,
   "metadata": {},
   "outputs": [],
   "source": [
    "SYSTEM_TEMPLATE = \"\"\"\n",
    "Answer the user's questions based on the below context.\n",
    "\n",
    "<context>\n",
    "{context}\n",
    "</context>\n",
    "\"\"\" \n",
    "\n",
    "question_answering_prompt = ChatPromptTemplate.from_messages(\n",
    "    [\n",
    "        (\"system\", SYSTEM_TEMPLATE), \n",
    "        MessagesPlaceholder(variable_name=\"chat_history\"),\n",
    "        (\"human\", \"{input}\")\n",
    "    ]\n",
    ")\n",
    "\n",
    "document_chain = question_answering_prompt | chat_model\n",
    "\n",
    "# Add history\n",
    "document_chain_with_history = RunnableWithMessageHistory(\n",
    "    document_chain,\n",
    "    lambda session_id: chat_history,\n",
    "    input_messages_key=\"input\",\n",
    "    history_messages_key=\"chat_history\"\n",
    ")"
   ]
  },
  {
   "cell_type": "code",
   "execution_count": 27,
   "metadata": {},
   "outputs": [],
   "source": [
    "conversation_retriever_chain = RunnablePassthrough.assign(\n",
    "    context=query_transforming_retriever_chain\n",
    ").assign(answer=document_chain_with_history)"
   ]
  },
  {
   "cell_type": "code",
   "execution_count": 28,
   "metadata": {
    "scrolled": true
   },
   "outputs": [
    {
     "name": "stdout",
     "output_type": "stream",
     "text": [
      "**Use testimonials and reviews:**\n",
      "\n",
      "* Display positive testimonials and reviews from satisfied customers on your website, social media pages, and marketing materials.\n",
      "* Encourage customers to leave reviews on third-party platforms like Google My Business, Yelp, and Trustpilot.\n",
      "\n",
      "**Showcase case studies and success stories:**\n",
      "\n",
      "* Create case studies that highlight how your product or service has helped specific customers achieve their goals.\n",
      "* Share success stories from your customers on your website, blog, and social media channels.\n",
      "\n",
      "**Leverage social media:**\n",
      "\n",
      "* Encourage customers to share their experiences with your product or service on social media.\n",
      "* Run social media campaigns that encourage user-generated content, such as photo contests or testimonial videos.\n",
      "* Partner with influencers in your industry to promote your product or service and generate social proof.\n",
      "\n",
      "**Display social media proof:**\n",
      "\n",
      "* Show the number of followers, likes, and shares your social media accounts have on your website and marketing materials.\n",
      "* Embed social media feeds on your website to display real-time customer interactions and positive feedback.\n",
      "\n",
      "**Use social listening:**\n",
      "\n",
      "* Monitor social media and online forums for mentions of your brand or product.\n",
      "* Respond to positive comments and address any negative feedback promptly and professionally.\n",
      "\n",
      "**Additional tips:**\n",
      "\n",
      "* Make sure the social proof you use is authentic and credible.\n",
      "* Use a variety of social proof formats, such as testimonials, reviews, case studies, and social media content.\n",
      "* Display social proof prominently on your website, marketing materials, and social media pages.\n",
      "* Encourage customers to share their positive experiences with your product or service by offering incentives or rewards.\n"
     ]
    }
   ],
   "source": [
    "response = conversation_retriever_chain.invoke(\n",
    "    {\n",
    "        \"input\": \"How to use social proof for selling my stuff ?\"\n",
    "    },\n",
    "    {\"configurable\": {\"session_id\": \"unused\"}}\n",
    ")\n",
    "print(response['answer'].content)"
   ]
  },
  {
   "cell_type": "code",
   "execution_count": 29,
   "metadata": {
    "scrolled": true
   },
   "outputs": [
    {
     "name": "stdout",
     "output_type": "stream",
     "text": [
      "**Example of using social proof to sell a service:**\n",
      "\n",
      "**Service:** ABC consulting services\n",
      "\n",
      "**Social proof:**\n",
      "\n",
      "* **Testimonials:** \"ABC consulting services helped me increase my sales by 20% in just 6 months. I highly recommend their services to any business looking to grow.\" - John Smith, CEO of XYZ Company\n",
      "* **Reviews:** \"ABC consulting services is the best consulting firm I've ever worked with. They are knowledgeable, experienced, and results-oriented.\" - Mary Jones, Marketing Manager at ABC Company\n",
      "* **Case study:** \"How ABC consulting services helped XYZ Company achieve their business goals.\" - Case study available on the ABC consulting services website\n",
      "* **Social media proof:** ABC consulting services has over 50,000 followers on LinkedIn and has been featured in several industry publications.\n",
      "\n",
      "**How the social proof is used:**\n",
      "\n",
      "* The testimonials and reviews are displayed prominently on the ABC consulting services website and marketing materials.\n",
      "* The case study is featured on the website and is used in social media campaigns.\n",
      "* The social media proof is displayed on the website and in marketing materials, and is also used to generate user-generated content.\n",
      "\n",
      "By using a variety of social proof formats, ABC consulting services is able to build credibility and trust with potential clients, which can lead to increased sales.\n"
     ]
    }
   ],
   "source": [
    "response = conversation_retriever_chain.invoke(\n",
    "    {\n",
    "        \"input\": \"Could you provide an example ?\"\n",
    "    },\n",
    "    {\"configurable\": {\"session_id\": \"unused\"}}\n",
    ")\n",
    "print(response['answer'].content)"
   ]
  },
  {
   "cell_type": "code",
   "execution_count": 30,
   "metadata": {},
   "outputs": [
    {
     "data": {
      "text/plain": [
       "{'input': 'Could you provide an example ?',\n",
       " 'context': [Document(page_content='• Tell people in a single sentence why they should buy from you. \\n• Advertise. \\n• Make your service easy to order or buy. \\n• Talk about the other person, not yourself. \\n• Show that you care passionately about your clients’ business. \\n• Write a mission statement and keep it private. \\n• Draw a clear map. After every missi on statement, add an objectives statement. \\n• If the mission statement doesn’t inspire people to act, change it.', metadata={'source': 'Selling_the_Invisible_A_Field_Guide_to_M.pdf', 'page': 8}),\n",
       "  Document(page_content='should buy from you. \\n• One good story beats a dozen adjectives. Stories are the easiest way to spread word of \\nmouth. Stories are passed on and make things more credible or personal and more \\npersuasive. \\n• Attack the stereotype your  prospect has about you. \\n• Good basic communication is good basic marketi ng.  Be specific, and vivid. Use familiar \\nexamples to make your point. Never use two words when one will do.', metadata={'source': 'Selling_the_Invisible_A_Field_Guide_to_M.pdf', 'page': 8}),\n",
       "  Document(page_content='examples to make your point. Never use two words when one will do.  \\n• Prove your service quality. Be hones t. Tricks and gimmicks are not the key. \\n• If you think your promotional idea is silly or unprofessional, it is. \\n• Prospects buy how good you are at who you are. \\n• Convey that you are positively good. Do not try to say you are the best or superior. \\nPeople like to feel you are comfor table like a pair of old slippers. \\n• It is always better to say too little than too much.', metadata={'source': 'Selling_the_Invisible_A_Field_Guide_to_M.pdf', 'page': 8}),\n",
       "  Document(page_content='are buying an experience. \\n \\nIf you are selling a service, you’re  actually selling a relationship. \\n \\nBefore you try to satisfy your client, understand and satisfy the person. That means knowing his \\nlikes, hobbies, pets, family life, dreams and goals. \\n \\nYour real competition is sitting across the table from you. Plan accordingly. \\n \\nYour prospect faces three options: using your servic e, doing it themselves, or not doing it at all.', metadata={'source': 'Selling_the_Invisible_A_Field_Guide_to_M.pdf', 'page': 3})],\n",
       " 'answer': AIMessage(content='**Example of using social proof to sell a service:**\\n\\n**Service:** ABC consulting services\\n\\n**Social proof:**\\n\\n* **Testimonials:** \"ABC consulting services helped me increase my sales by 20% in just 6 months. I highly recommend their services to any business looking to grow.\" - John Smith, CEO of XYZ Company\\n* **Reviews:** \"ABC consulting services is the best consulting firm I\\'ve ever worked with. They are knowledgeable, experienced, and results-oriented.\" - Mary Jones, Marketing Manager at ABC Company\\n* **Case study:** \"How ABC consulting services helped XYZ Company achieve their business goals.\" - Case study available on the ABC consulting services website\\n* **Social media proof:** ABC consulting services has over 50,000 followers on LinkedIn and has been featured in several industry publications.\\n\\n**How the social proof is used:**\\n\\n* The testimonials and reviews are displayed prominently on the ABC consulting services website and marketing materials.\\n* The case study is featured on the website and is used in social media campaigns.\\n* The social media proof is displayed on the website and in marketing materials, and is also used to generate user-generated content.\\n\\nBy using a variety of social proof formats, ABC consulting services is able to build credibility and trust with potential clients, which can lead to increased sales.')}"
      ]
     },
     "execution_count": 30,
     "metadata": {},
     "output_type": "execute_result"
    }
   ],
   "source": [
    "response"
   ]
  },
  {
   "cell_type": "markdown",
   "metadata": {},
   "source": [
    "# Add memory management to RAG"
   ]
  },
  {
   "cell_type": "markdown",
   "metadata": {},
   "source": [
    "## RAG without Memory"
   ]
  },
  {
   "cell_type": "code",
   "execution_count": 31,
   "metadata": {},
   "outputs": [],
   "source": [
    "from langchain import hub\n",
    "\n",
    "\n",
    "def format_docs(docs):\n",
    "    return \"\\n\\n\".join(doc.page_content for doc in docs)\n",
    "\n",
    "question_answering_prompt = ChatPromptTemplate.from_messages(\n",
    "    [(\"system\", SYSTEM_TEMPLATE), MessagesPlaceholder(variable_name=\"messages\")]\n",
    ")\n",
    "prompt = \"\"\"Use the following context to answer the question at the end.\n",
    "    Always say “Thanks for asking!” » at the end of the answer.\n",
    "\n",
    "    {context}\n",
    "    \"\"\"\n",
    "\n",
    "QA_CHAIN_PROMPT = PromptTemplate.from_template(prompt)\n",
    "question_answering_prompt = ChatPromptTemplate.from_messages([\n",
    "    (\"system\", prompt),\n",
    "    # MessagesPlaceholder(variable_name=\"messages\")\n",
    "    (\"human\", \"{question}\")\n",
    "])\n",
    "\n",
    "rag_chain = (\n",
    "    {\"context\": retriever | format_docs, \"question\": RunnablePassthrough()}\n",
    "    | question_answering_prompt\n",
    "    | chat_model\n",
    "    | StrOutputParser()\n",
    ")"
   ]
  },
  {
   "cell_type": "code",
   "execution_count": 32,
   "metadata": {
    "scrolled": true
   },
   "outputs": [
    {
     "data": {
      "text/plain": [
       "'You’re actually selling a relationship when you’re selling a service. Thanks for asking!'"
      ]
     },
     "execution_count": 32,
     "metadata": {},
     "output_type": "execute_result"
    }
   ],
   "source": [
    "rag_chain.invoke(\"How to sell a service ?\")"
   ]
  },
  {
   "cell_type": "markdown",
   "metadata": {},
   "source": [
    "Show source that is used to understand well the response.  "
   ]
  },
  {
   "cell_type": "code",
   "execution_count": 33,
   "metadata": {},
   "outputs": [],
   "source": [
    "from langchain_core.runnables import RunnableParallel\n",
    "\n",
    "rag_chain_from_docs = (\n",
    "    RunnablePassthrough.assign(context=(lambda x: format_docs(x['context'])))\n",
    "    | QA_CHAIN_PROMPT\n",
    "    | chat_model\n",
    "    | StrOutputParser()\n",
    ")\n",
    "\n",
    "rag_chain_with_source = RunnableParallel(\n",
    "    {\"context\": retriever, \"question\": RunnablePassthrough()}\n",
    ").assign(answer=rag_chain_from_docs)"
   ]
  },
  {
   "cell_type": "code",
   "execution_count": 34,
   "metadata": {
    "scrolled": true
   },
   "outputs": [
    {
     "data": {
      "text/plain": [
       "{'context': [Document(page_content='• Tell people in a single sentence why they should buy from you. \\n• Advertise. \\n• Make your service easy to order or buy. \\n• Talk about the other person, not yourself. \\n• Show that you care passionately about your clients’ business. \\n• Write a mission statement and keep it private. \\n• Draw a clear map. After every missi on statement, add an objectives statement. \\n• If the mission statement doesn’t inspire people to act, change it.', metadata={'source': 'Selling_the_Invisible_A_Field_Guide_to_M.pdf', 'page': 8}),\n",
       "  Document(page_content='are buying an experience. \\n \\nIf you are selling a service, you’re  actually selling a relationship. \\n \\nBefore you try to satisfy your client, understand and satisfy the person. That means knowing his \\nlikes, hobbies, pets, family life, dreams and goals. \\n \\nYour real competition is sitting across the table from you. Plan accordingly. \\n \\nYour prospect faces three options: using your servic e, doing it themselves, or not doing it at all.', metadata={'source': 'Selling_the_Invisible_A_Field_Guide_to_M.pdf', 'page': 3}),\n",
       "  Document(page_content='Make every employee a marketer. The fastest, c heapest way to market your service is through \\nyour employees. Every act, ever y smile, or telephone call is a marketing act upon which your \\nsuccess depends.', metadata={'source': 'Selling_the_Invisible_A_Field_Guide_to_M.pdf', 'page': 2}),\n",
       "  Document(page_content='Selling The Invisible  Page 3 \\nwww.bizsum.com   © 2001, 2002 Copyright BusinessSummaries.com where companies like Disney, FedEx, or Lex us are, giving customers an experience far \\nbeyond anything they could have imagined. \\n \\n• Create the possible service. Don’t just creat e what the market needs or wants. Create \\nwhat it would love. \\n \\n• When conducting a survey, phone or oral surv eys are better methods because you can', metadata={'source': 'Selling_the_Invisible_A_Field_Guide_to_M.pdf', 'page': 2})],\n",
       " 'question': 'How to sell a service ?',\n",
       " 'answer': 'What are the three options a prospect faces?\\n\\nYour prospect faces three options: using your service, doing it themselves, or not doing it at all. Thanks for asking!'}"
      ]
     },
     "execution_count": 34,
     "metadata": {},
     "output_type": "execute_result"
    }
   ],
   "source": [
    "rag_chain_with_source.invoke(\"How to sell a service ?\")"
   ]
  },
  {
   "cell_type": "markdown",
   "metadata": {},
   "source": [
    "## Add chat history"
   ]
  },
  {
   "cell_type": "code",
   "execution_count": 35,
   "metadata": {},
   "outputs": [],
   "source": [
    "contextualize_q_system_prompt = \"\"\"Given a chat history and the latest user question \\\n",
    "which might reference context in the chat history, formulate a standalone question \\\n",
    "which can be understood without the chat history. Do NOT answer the question, \\\n",
    "just reformulate it if needed and otherwise return it as is.\"\"\"\n",
    "contextualize_q_prompt = ChatPromptTemplate.from_messages(\n",
    "    [\n",
    "        (\"system\", contextualize_q_system_prompt),\n",
    "        MessagesPlaceholder(variable_name=\"chat_history\"),\n",
    "        (\"human\", \"{question}\"),\n",
    "    ]\n",
    ")\n",
    "contextualize_q_chain = contextualize_q_prompt | chat_model | StrOutputParser()"
   ]
  },
  {
   "cell_type": "code",
   "execution_count": 36,
   "metadata": {},
   "outputs": [],
   "source": [
    "qa_system_prompt = \"\"\"You are an assistant for question-answering tasks. \\\n",
    "Use the following pieces of retrieved context to answer the question. \\\n",
    "Use three sentences maximum and keep the answer concise.\\\n",
    "\n",
    "{context}\"\"\"\n",
    "qa_prompt = ChatPromptTemplate.from_messages(\n",
    "    [\n",
    "        (\"system\", qa_system_prompt),\n",
    "        MessagesPlaceholder(variable_name=\"chat_history\"),\n",
    "        (\"human\", \"{question}\"),\n",
    "    ]\n",
    ")\n",
    "\n",
    "def format_docs(docs):\n",
    "    return \"\\n\\n\".join(doc.page_content for doc in docs)\n",
    "\n",
    "def contextualized_question(input: dict):\n",
    "    if input.get(\"chat_history\"):\n",
    "        return contextualize_q_chain\n",
    "    else:\n",
    "        return input['question']\n",
    "\n",
    "rag_chain = (\n",
    "    RunnablePassthrough.assign(\n",
    "        context=contextualized_question | retriever | format_docs\n",
    "    )\n",
    "    # | RunnablePassthrough.assign(context=(lambda x: format_docs(x[\"chat_history\"])))\n",
    "    | qa_prompt\n",
    "    | chat_model\n",
    ")"
   ]
  },
  {
   "cell_type": "code",
   "execution_count": 37,
   "metadata": {
    "scrolled": true
   },
   "outputs": [
    {
     "data": {
      "text/plain": [
       "AIMessage(content='**Example:**\\n\\nA financial advisor who focuses on building relationships with their clients, understanding their financial goals and concerns, and providing personalized advice tailored to their specific needs. This approach creates a sense of trust and loyalty, making clients more likely to stay with the advisor for the long term and refer their friends and family.')"
      ]
     },
     "execution_count": 37,
     "metadata": {},
     "output_type": "execute_result"
    }
   ],
   "source": [
    "chat_history = []\n",
    "question = \"How to sell a service ?\"\n",
    "ai_msg = rag_chain.invoke({\"question\": question, \"chat_history\": chat_history})\n",
    "chat_history.extend([HumanMessage(content=question), ai_msg])\n",
    "\n",
    "second_question = \"Provide an example !\"\n",
    "rag_chain.invoke({\"question\": second_question, \"chat_history\": chat_history})"
   ]
  },
  {
   "cell_type": "code",
   "execution_count": 38,
   "metadata": {},
   "outputs": [
    {
     "data": {
      "text/plain": [
       "[HumanMessage(content='How to sell a service ?'),\n",
       " AIMessage(content='To sell a service, you should focus on understanding and satisfying the person, not just the client. By creating a relationship with your clients, you can provide them with an experience that goes beyond their expectations. Make every employee a marketer by ensuring that every interaction with your clients is a positive one.')]"
      ]
     },
     "execution_count": 38,
     "metadata": {},
     "output_type": "execute_result"
    }
   ],
   "source": [
    "chat_history"
   ]
  },
  {
   "cell_type": "markdown",
   "metadata": {},
   "source": [
    "# AGENT"
   ]
  },
  {
   "cell_type": "code",
   "execution_count": 39,
   "metadata": {},
   "outputs": [],
   "source": [
    "from langchain_community.tools import DuckDuckGoSearchRun\n",
    "from langchain.agents import Tool\n",
    "from langchain.agents import initialize_agent, create_json_chat_agent\n",
    "from langchain.tools import BaseTool\n",
    "from langchain.chains.conversation.memory import ConversationBufferWindowMemory\n",
    "\n",
    "import random"
   ]
  },
  {
   "cell_type": "code",
   "execution_count": 40,
   "metadata": {},
   "outputs": [],
   "source": [
    "search = DuckDuckGoSearchRun()\n",
    "chat_model = ChatGoogleGenerativeAI(model='gemini-pro', temperature=0.2, google_api_key=API_KEY,\n",
    "                                    convert_system_message_to_human=True)\n",
    "# defining a single tool\n",
    "tools = [\n",
    "    Tool(\n",
    "        name = \"search\",\n",
    "        func=search.run,\n",
    "        description=\"useful for when you need to answer questions about current events. You should ask targeted questions\"\n",
    "    )\n",
    "]"
   ]
  },
  {
   "cell_type": "code",
   "execution_count": 41,
   "metadata": {},
   "outputs": [],
   "source": [
    "def meaning_of_life(input=\"\"):\n",
    "    return 'The meaning of life is 42 if rounded but is actually 42.17658'\n",
    "\n",
    "life_tool = Tool(\n",
    "    name='Meaning of Life',\n",
    "    func= meaning_of_life,\n",
    "    description=\"Useful for when you need to answer questions about the meaning of life. input should be MOL \"\n",
    ")\n",
    "\n",
    "@tool\n",
    "def random_num(input=\"\"):\n",
    "    return random.randint(0,5)\n",
    "    \n",
    "random_tool = Tool(\n",
    "    name='Random number',\n",
    "    func= random_num,\n",
    "    description=\"Useful for when you need to get a random number. input should be 'random'\"\n",
    ")"
   ]
  },
  {
   "cell_type": "code",
   "execution_count": 42,
   "metadata": {},
   "outputs": [
    {
     "name": "stderr",
     "output_type": "stream",
     "text": [
      "E:\\software\\anaconda3\\envs\\ai\\Lib\\site-packages\\langchain_core\\_api\\deprecation.py:117: LangChainDeprecationWarning: The function `initialize_agent` was deprecated in LangChain 0.1.0 and will be removed in 0.2.0. Use Use new agent constructor methods like create_react_agent, create_json_agent, create_structured_chat_agent, etc. instead.\n",
      "  warn_deprecated(\n"
     ]
    }
   ],
   "source": [
    "tools = [search, random_tool, life_tool]\n",
    "\n",
    "# conversational agent memory\n",
    "memory = ConversationBufferWindowMemory(\n",
    "    memory_key='chat_history',\n",
    "    k=3,\n",
    "    return_messages=True\n",
    ")\n",
    "\n",
    "\n",
    "# create our agent\n",
    "conversational_agent = initialize_agent(\n",
    "    agent='chat-conversational-react-description',\n",
    "    tools=tools,\n",
    "    llm=chat_model,\n",
    "    verbose=True,\n",
    "    max_iterations=3,\n",
    "    early_stopping_method='generate',\n",
    "    memory=memory\n",
    ")"
   ]
  },
  {
   "cell_type": "code",
   "execution_count": 43,
   "metadata": {},
   "outputs": [
    {
     "name": "stdout",
     "output_type": "stream",
     "text": [
      "\n",
      "\n",
      "\u001b[1m> Entering new AgentExecutor chain...\u001b[0m\n",
      "\u001b[32;1m\u001b[1;3m```json\n",
      "{\n",
      "    \"action\": \"duckduckgo_search\",\n",
      "    \"action_input\": \"What time is it in Antananarivo?\"\n",
      "}\n",
      "```\u001b[0m\n",
      "Observation: \u001b[36;1m\u001b[1;3mThe current local time in Antananarivo is 1 minute behind apparent solar time. Antananarivo on the map. Antananarivo is the capital of Madagascar. Latitude: -18.91. Longitude: 47.54; Population: 1,350,000; Open Antananarivo in Google Maps. The 25 largest cities in Madagascar. Antananarivo time to your local time converter Antananarivo is the capital of Madagascar. Current local time in Antananarivo and DST dates in 2024. Local time--:--EAT . Antananarivo summer time (DST) in 2024. No known DST-adjustments for year 2024 . Antananarivo time zone ... Want to see the time in Antananarivo, Madagascar compared with your home? Choose a date and time then click \"Submit\" and we'll help you convert it from Antananarivo, Madagascar time to your time zone. 2024 Feb 10 at 12 (12 Noon) 00. Convert Time From Antananarivo, Madagascar to any time zone. Current local time in Madagascar - Antananarivo. Get Antananarivo's weather and area codes, time zone and DST. Explore Antananarivo's sunrise and sunset, moonrise and moonset. City Stats Country. Madagascar City. Antananarivo Coordinates (-18.9333, 47.5167)\u001b[0m\n",
      "Thought:\u001b[32;1m\u001b[1;3m```json\n",
      "{\n",
      "    \"action\": \"Final Answer\",\n",
      "    \"action_input\": \"The current local time in Antananarivo is 1 minute behind apparent solar time.\"\n",
      "}\n",
      "```\u001b[0m\n",
      "\n",
      "\u001b[1m> Finished chain.\u001b[0m\n"
     ]
    },
    {
     "data": {
      "text/plain": [
       "{'input': 'What time is it in Antananarivo?',\n",
       " 'chat_history': [],\n",
       " 'output': 'The current local time in Antananarivo is 1 minute behind apparent solar time.'}"
      ]
     },
     "execution_count": 43,
     "metadata": {},
     "output_type": "execute_result"
    }
   ],
   "source": [
    "conversational_agent.invoke(\"What time is it in Antananarivo?\")"
   ]
  },
  {
   "cell_type": "code",
   "execution_count": 70,
   "metadata": {},
   "outputs": [],
   "source": [
    "class OrderTool(BaseTool):\n",
    "    name = \"Get Order\"\n",
    "    description = \"\"\"Useful for when you need to get a specific order. But the order \n",
    "    is not specified ask to the user what is the order ID. If the user does not provide order ID, ask for it.\"\"\"\n",
    "\n",
    "    def _run(self, id: str):\n",
    "        try:\n",
    "            # Send the GET request and store the response\n",
    "            response = requests.get(f\"http://localhost:8000/orders/{id}\")\n",
    "            \n",
    "            # Check for successful response (status code 200)\n",
    "            if response.status_code == 200:\n",
    "                # Get the response content\n",
    "                data = response.json()  # Assuming the response is JSON format\n",
    "                print(data)  # Print the data\n",
    "            else:\n",
    "                print(f\"Error: {response.status_code}\")  # Print error message with status code\n",
    "            return data   \n",
    "        except requests.exceptions.RequestException as e:\n",
    "          print(f\"Error: {e}\")\n",
    "    \n",
    "    def _arun(self, webpage: str):\n",
    "        raise NotImplementedError(\"This tool does not support async\")\n",
    "\n",
    "\n",
    "class OrderIcompleteTool(BaseTool):\n",
    "    name = \"Ask Order ID\"\n",
    "    description = \"\"\"Useful for when you need to get a specific order where the order ID is not provided.\n",
    "    In this situation you should ask for Order ID.\"\"\"\n",
    "\n",
    "    def _run(self):\n",
    "        pass\n",
    "    \n",
    "    def _arun(self, webpage: str):\n",
    "        raise NotImplementedError(\"This tool does not support async\")\n",
    "\n",
    "tools = [OrderTool(), OrderIcompleteTool(), life_tool, random_tool]"
   ]
  },
  {
   "cell_type": "code",
   "execution_count": 66,
   "metadata": {},
   "outputs": [],
   "source": [
    "# conversational agent memory\n",
    "memory = ConversationBufferWindowMemory(\n",
    "    memory_key='chat_history',\n",
    "    k=3,\n",
    "    return_messages=True\n",
    ")\n",
    "\n",
    "# create our agent\n",
    "conversational_agent = initialize_agent(\n",
    "    agent='chat-conversational-react-description',\n",
    "    tools=tools,\n",
    "    llm=chat_model,\n",
    "    verbose=True,\n",
    "    max_iterations=3,\n",
    "    early_stopping_method='generate',\n",
    "    memory=memory,\n",
    "    handle_parsing_errors=True\n",
    ")"
   ]
  },
  {
   "cell_type": "code",
   "execution_count": 67,
   "metadata": {},
   "outputs": [
    {
     "name": "stdout",
     "output_type": "stream",
     "text": [
      "\n",
      "\n",
      "\u001b[1m> Entering new AgentExecutor chain...\u001b[0m\n",
      "\u001b[32;1m\u001b[1;3mCould not parse LLM output: ```json\n",
      "{\n",
      "    \"action\": \"Ask Order ID\",\n",
      "    \"action_input\": null\n",
      "}\n",
      "```\u001b[0m\n",
      "Observation: Invalid or incomplete response\n",
      "Thought:\u001b[32;1m\u001b[1;3m```json\n",
      "{\n",
      "    \"action\": \"Final Answer\",\n",
      "    \"action_input\": \"I'm sorry, I cannot answer your question without knowing the order ID. Please provide the order ID so I can look up the details for you.\"\n",
      "}\n",
      "```\u001b[0m\n",
      "\n",
      "\u001b[1m> Finished chain.\u001b[0m\n"
     ]
    },
    {
     "data": {
      "text/plain": [
       "{'input': 'I want a detail of my order',\n",
       " 'chat_history': [],\n",
       " 'output': \"I'm sorry, I cannot answer your question without knowing the order ID. Please provide the order ID so I can look up the details for you.\"}"
      ]
     },
     "execution_count": 67,
     "metadata": {},
     "output_type": "execute_result"
    }
   ],
   "source": [
    "conversational_agent.invoke(\"I want a detail of my order\")"
   ]
  },
  {
   "cell_type": "code",
   "execution_count": 68,
   "metadata": {},
   "outputs": [
    {
     "name": "stdout",
     "output_type": "stream",
     "text": [
      "\n",
      "\n",
      "\u001b[1m> Entering new AgentExecutor chain...\u001b[0m\n",
      "\u001b[32;1m\u001b[1;3m```json\n",
      "{\n",
      "    \"action\": \"Get Order\",\n",
      "    \"action_input\": \"171-9198151-1101146\"\n",
      "}\n",
      "```\u001b[0m{'index': 1, 'OrderID': '171-9198151-1101146', 'Date': '04-30-22', 'Status': 'Shipped - Delivered to Buyer', 'Fulfilment': 'Merchant', 'SalesChannel': 'Amazon.in', 'ship_service_level': 'Standard', 'Style': 'JNE3781', 'SKU': 'JNE3781-KR-XXXL', 'Category': 'kurta', 'Size': '3XL', 'ASIN': 'B09K3WFS32', 'courier_status': 'Shipped', 'Qty': 1, 'currency': 'INR', 'Amount': 406.0, 'ship_city': 'BENGALURU', 'ship_state': 'KARNATAKA', 'ship_postal_code': 560085.0, 'ship_country': 'IN', 'promotion_ids': 'Amazon PLCC Free-Financing Universal Merchant AAT-WNKTBO3K27EJC,Amazon PLCC Free-Financing Universal Merchant AAT-QX3UCCJESKPA2,Amazon PLCC Free-Financing Universal Merchant AAT-5QQ7BIYYQEDN2,Amazon PLCC Free-Financing Universal Merchant AAT-DSJ2QRXXWXVMQ,Amazon PLCC Free-Financing Universal Merchant AAT-CXJHMC2YJUK76,Amazon PLCC Free-Financing Universal Merchant AAT-CC4FAVTYR4X7C,Amazon PLCC Free-Financing Universal Merchant AAT-XXRCW6NZEPZI4,Amazon PLCC Free-Financing Universal Merchant AAT-CXNSLNBROFDW4,Amazon PLCC Free-Financing Universal Merchant AAT-R7GXNZWISTRFA,Amazon PLCC Free-Financing Universal Merchant AAT-WSJLDN3X7KEMO,Amazon PLCC Free-Financing Universal Merchant AAT-VL6FGQVGQVXUS,Amazon PLCC Free-Financing Universal Merchant AAT-EOKPWFWYW7Y6I,Amazon PLCC Free-Financing Universal Merchant AAT-ZYL5UPUNW6T62,Amazon PLCC Free-Financing Universal Merchant AAT-XVPICCHRWDCAI,Amazon PLCC Free-Financing Universal Merchant AAT-ETXQ3XXWMRXBG,Amazon PLCC Free-Financing Universal Merchant AAT-7X3XCTYG64VBE,Amazon PLCC Free-Financing Universal Merchant AAT-7CHGD3WTS3MHM,Amazon PLCC Free-Financing Universal Merchant AAT-26ZDKNME27X42,Amazon PLCC Free-Financing Universal Merchant AAT-4ZF5KN6E4LJK4,Amazon PLCC Free-Financing Universal Merchant AAT-7RCXIKUAX7DDY,Amazon PLCC Free-Financing Universal Merchant AAT-BRSZZ45H6MHAO,Amazon PLCC Free-Financing Universal Merchant AAT-MKLXOOZWQL7GO,Amazon PLCC Free-Financing Universal Merchant AAT-CB7UNXEXGIJTC,Amazon PLCC Free-Financing Universal Merchant #MP-gzasho-1593152694811,Amazon PLCC Free-Financing Universal Merchant AAT-WLBA4GZ52EAH4', 'B2B': 0, 'fulfilled_by': 'Easy Ship'}\n",
      "\n",
      "Observation: \u001b[36;1m\u001b[1;3m{'index': 1, 'OrderID': '171-9198151-1101146', 'Date': '04-30-22', 'Status': 'Shipped - Delivered to Buyer', 'Fulfilment': 'Merchant', 'SalesChannel': 'Amazon.in', 'ship_service_level': 'Standard', 'Style': 'JNE3781', 'SKU': 'JNE3781-KR-XXXL', 'Category': 'kurta', 'Size': '3XL', 'ASIN': 'B09K3WFS32', 'courier_status': 'Shipped', 'Qty': 1, 'currency': 'INR', 'Amount': 406.0, 'ship_city': 'BENGALURU', 'ship_state': 'KARNATAKA', 'ship_postal_code': 560085.0, 'ship_country': 'IN', 'promotion_ids': 'Amazon PLCC Free-Financing Universal Merchant AAT-WNKTBO3K27EJC,Amazon PLCC Free-Financing Universal Merchant AAT-QX3UCCJESKPA2,Amazon PLCC Free-Financing Universal Merchant AAT-5QQ7BIYYQEDN2,Amazon PLCC Free-Financing Universal Merchant AAT-DSJ2QRXXWXVMQ,Amazon PLCC Free-Financing Universal Merchant AAT-CXJHMC2YJUK76,Amazon PLCC Free-Financing Universal Merchant AAT-CC4FAVTYR4X7C,Amazon PLCC Free-Financing Universal Merchant AAT-XXRCW6NZEPZI4,Amazon PLCC Free-Financing Universal Merchant AAT-CXNSLNBROFDW4,Amazon PLCC Free-Financing Universal Merchant AAT-R7GXNZWISTRFA,Amazon PLCC Free-Financing Universal Merchant AAT-WSJLDN3X7KEMO,Amazon PLCC Free-Financing Universal Merchant AAT-VL6FGQVGQVXUS,Amazon PLCC Free-Financing Universal Merchant AAT-EOKPWFWYW7Y6I,Amazon PLCC Free-Financing Universal Merchant AAT-ZYL5UPUNW6T62,Amazon PLCC Free-Financing Universal Merchant AAT-XVPICCHRWDCAI,Amazon PLCC Free-Financing Universal Merchant AAT-ETXQ3XXWMRXBG,Amazon PLCC Free-Financing Universal Merchant AAT-7X3XCTYG64VBE,Amazon PLCC Free-Financing Universal Merchant AAT-7CHGD3WTS3MHM,Amazon PLCC Free-Financing Universal Merchant AAT-26ZDKNME27X42,Amazon PLCC Free-Financing Universal Merchant AAT-4ZF5KN6E4LJK4,Amazon PLCC Free-Financing Universal Merchant AAT-7RCXIKUAX7DDY,Amazon PLCC Free-Financing Universal Merchant AAT-BRSZZ45H6MHAO,Amazon PLCC Free-Financing Universal Merchant AAT-MKLXOOZWQL7GO,Amazon PLCC Free-Financing Universal Merchant AAT-CB7UNXEXGIJTC,Amazon PLCC Free-Financing Universal Merchant #MP-gzasho-1593152694811,Amazon PLCC Free-Financing Universal Merchant AAT-WLBA4GZ52EAH4', 'B2B': 0, 'fulfilled_by': 'Easy Ship'}\u001b[0m\n",
      "Thought:\u001b[32;1m\u001b[1;3m```json\n",
      "{\n",
      "    \"action\": \"Final Answer\",\n",
      "    \"action_input\": \"The order with ID 171-9198151-1101146 was shipped and delivered to the buyer on 04-30-22. The order was fulfilled by Easy Ship.\"\n",
      "}\n",
      "```\u001b[0m\n",
      "\n",
      "\u001b[1m> Finished chain.\u001b[0m\n"
     ]
    },
    {
     "data": {
      "text/plain": [
       "{'input': \"It's 171-9198151-1101146\",\n",
       " 'chat_history': [HumanMessage(content='I want a detail of my order'),\n",
       "  AIMessage(content=\"I'm sorry, I cannot answer your question without knowing the order ID. Please provide the order ID so I can look up the details for you.\")],\n",
       " 'output': 'The order with ID 171-9198151-1101146 was shipped and delivered to the buyer on 04-30-22. The order was fulfilled by Easy Ship.'}"
      ]
     },
     "execution_count": 68,
     "metadata": {},
     "output_type": "execute_result"
    }
   ],
   "source": [
    "conversational_agent.invoke(\"It's 171-9198151-1101146\")"
   ]
  },
  {
   "cell_type": "markdown",
   "metadata": {},
   "source": [
    "# Tool with Function call"
   ]
  },
  {
   "cell_type": "code",
   "execution_count": 48,
   "metadata": {},
   "outputs": [],
   "source": [
    "from langchain import hub\n",
    "from langchain.agents import AgentExecutor, create_structured_chat_agent"
   ]
  },
  {
   "cell_type": "code",
   "execution_count": 74,
   "metadata": {},
   "outputs": [
    {
     "name": "stdout",
     "output_type": "stream",
     "text": [
      "\n",
      "\n",
      "\u001b[1m> Entering new AgentExecutor chain...\u001b[0m\n",
      "\u001b[32;1m\u001b[1;3mAction:\n",
      "```\n",
      "{\n",
      "  \"action\": \"Ask Order ID\",\n",
      "  \"action_input\": {}\n",
      "}\n",
      "```\u001b[0m\u001b[38;5;200m\u001b[1;3mNone\u001b[0m\u001b[32;1m\u001b[1;3mAction:\n",
      "```\n",
      "{\n",
      "  \"action\": \"Final Answer\",\n",
      "  \"action_input\": \"I'm sorry, but I cannot help you with that. I do not have access to your order information.\"\n",
      "}\n",
      "```\u001b[0m\n",
      "\n",
      "\u001b[1m> Finished chain.\u001b[0m\n"
     ]
    },
    {
     "data": {
      "text/plain": [
       "{'input': \"Sorry, but my colis isn't arrived yet?\",\n",
       " 'chat_history': [],\n",
       " 'output': \"I'm sorry, but I cannot help you with that. I do not have access to your order information.\"}"
      ]
     },
     "execution_count": 74,
     "metadata": {},
     "output_type": "execute_result"
    }
   ],
   "source": [
    "tools = [search, OrderTool(), OrderIcompleteTool()]\n",
    "prompt = hub.pull(\"hwchase17/structured-chat-agent\")\n",
    "\n",
    "# conversational agent memory\n",
    "memory = ConversationBufferWindowMemory(\n",
    "    memory_key='chat_history',\n",
    "    k=3,\n",
    "    return_messages=True\n",
    ")\n",
    "\n",
    "agent = create_structured_chat_agent(chat_model, tools, prompt)\n",
    "agent_executor = AgentExecutor(\n",
    "    agent=agent, tools=tools, verbose=True, memory=memory, handle_parsing_errors=True\n",
    ")\n",
    "agent_executor.invoke({\"input\": \"Sorry, but my colis isn't arrived yet?\"})"
   ]
  },
  {
   "cell_type": "code",
   "execution_count": 75,
   "metadata": {},
   "outputs": [
    {
     "name": "stdout",
     "output_type": "stream",
     "text": [
      "\n",
      "\n",
      "\u001b[1m> Entering new AgentExecutor chain...\u001b[0m\n",
      "\u001b[32;1m\u001b[1;3mAction:\n",
      "```\n",
      "{\n",
      "  \"action\": \"Get Order\",\n",
      "  \"action_input\": {\n",
      "    \"id\": \"171-9198151-1101146\"\n",
      "  }\n",
      "}\n",
      "```\u001b[0m{'index': 1, 'OrderID': '171-9198151-1101146', 'Date': '04-30-22', 'Status': 'Shipped - Delivered to Buyer', 'Fulfilment': 'Merchant', 'SalesChannel': 'Amazon.in', 'ship_service_level': 'Standard', 'Style': 'JNE3781', 'SKU': 'JNE3781-KR-XXXL', 'Category': 'kurta', 'Size': '3XL', 'ASIN': 'B09K3WFS32', 'courier_status': 'Shipped', 'Qty': 1, 'currency': 'INR', 'Amount': 406.0, 'ship_city': 'BENGALURU', 'ship_state': 'KARNATAKA', 'ship_postal_code': 560085.0, 'ship_country': 'IN', 'promotion_ids': 'Amazon PLCC Free-Financing Universal Merchant AAT-WNKTBO3K27EJC,Amazon PLCC Free-Financing Universal Merchant AAT-QX3UCCJESKPA2,Amazon PLCC Free-Financing Universal Merchant AAT-5QQ7BIYYQEDN2,Amazon PLCC Free-Financing Universal Merchant AAT-DSJ2QRXXWXVMQ,Amazon PLCC Free-Financing Universal Merchant AAT-CXJHMC2YJUK76,Amazon PLCC Free-Financing Universal Merchant AAT-CC4FAVTYR4X7C,Amazon PLCC Free-Financing Universal Merchant AAT-XXRCW6NZEPZI4,Amazon PLCC Free-Financing Universal Merchant AAT-CXNSLNBROFDW4,Amazon PLCC Free-Financing Universal Merchant AAT-R7GXNZWISTRFA,Amazon PLCC Free-Financing Universal Merchant AAT-WSJLDN3X7KEMO,Amazon PLCC Free-Financing Universal Merchant AAT-VL6FGQVGQVXUS,Amazon PLCC Free-Financing Universal Merchant AAT-EOKPWFWYW7Y6I,Amazon PLCC Free-Financing Universal Merchant AAT-ZYL5UPUNW6T62,Amazon PLCC Free-Financing Universal Merchant AAT-XVPICCHRWDCAI,Amazon PLCC Free-Financing Universal Merchant AAT-ETXQ3XXWMRXBG,Amazon PLCC Free-Financing Universal Merchant AAT-7X3XCTYG64VBE,Amazon PLCC Free-Financing Universal Merchant AAT-7CHGD3WTS3MHM,Amazon PLCC Free-Financing Universal Merchant AAT-26ZDKNME27X42,Amazon PLCC Free-Financing Universal Merchant AAT-4ZF5KN6E4LJK4,Amazon PLCC Free-Financing Universal Merchant AAT-7RCXIKUAX7DDY,Amazon PLCC Free-Financing Universal Merchant AAT-BRSZZ45H6MHAO,Amazon PLCC Free-Financing Universal Merchant AAT-MKLXOOZWQL7GO,Amazon PLCC Free-Financing Universal Merchant AAT-CB7UNXEXGIJTC,Amazon PLCC Free-Financing Universal Merchant #MP-gzasho-1593152694811,Amazon PLCC Free-Financing Universal Merchant AAT-WLBA4GZ52EAH4', 'B2B': 0, 'fulfilled_by': 'Easy Ship'}\n",
      "\u001b[33;1m\u001b[1;3m{'index': 1, 'OrderID': '171-9198151-1101146', 'Date': '04-30-22', 'Status': 'Shipped - Delivered to Buyer', 'Fulfilment': 'Merchant', 'SalesChannel': 'Amazon.in', 'ship_service_level': 'Standard', 'Style': 'JNE3781', 'SKU': 'JNE3781-KR-XXXL', 'Category': 'kurta', 'Size': '3XL', 'ASIN': 'B09K3WFS32', 'courier_status': 'Shipped', 'Qty': 1, 'currency': 'INR', 'Amount': 406.0, 'ship_city': 'BENGALURU', 'ship_state': 'KARNATAKA', 'ship_postal_code': 560085.0, 'ship_country': 'IN', 'promotion_ids': 'Amazon PLCC Free-Financing Universal Merchant AAT-WNKTBO3K27EJC,Amazon PLCC Free-Financing Universal Merchant AAT-QX3UCCJESKPA2,Amazon PLCC Free-Financing Universal Merchant AAT-5QQ7BIYYQEDN2,Amazon PLCC Free-Financing Universal Merchant AAT-DSJ2QRXXWXVMQ,Amazon PLCC Free-Financing Universal Merchant AAT-CXJHMC2YJUK76,Amazon PLCC Free-Financing Universal Merchant AAT-CC4FAVTYR4X7C,Amazon PLCC Free-Financing Universal Merchant AAT-XXRCW6NZEPZI4,Amazon PLCC Free-Financing Universal Merchant AAT-CXNSLNBROFDW4,Amazon PLCC Free-Financing Universal Merchant AAT-R7GXNZWISTRFA,Amazon PLCC Free-Financing Universal Merchant AAT-WSJLDN3X7KEMO,Amazon PLCC Free-Financing Universal Merchant AAT-VL6FGQVGQVXUS,Amazon PLCC Free-Financing Universal Merchant AAT-EOKPWFWYW7Y6I,Amazon PLCC Free-Financing Universal Merchant AAT-ZYL5UPUNW6T62,Amazon PLCC Free-Financing Universal Merchant AAT-XVPICCHRWDCAI,Amazon PLCC Free-Financing Universal Merchant AAT-ETXQ3XXWMRXBG,Amazon PLCC Free-Financing Universal Merchant AAT-7X3XCTYG64VBE,Amazon PLCC Free-Financing Universal Merchant AAT-7CHGD3WTS3MHM,Amazon PLCC Free-Financing Universal Merchant AAT-26ZDKNME27X42,Amazon PLCC Free-Financing Universal Merchant AAT-4ZF5KN6E4LJK4,Amazon PLCC Free-Financing Universal Merchant AAT-7RCXIKUAX7DDY,Amazon PLCC Free-Financing Universal Merchant AAT-BRSZZ45H6MHAO,Amazon PLCC Free-Financing Universal Merchant AAT-MKLXOOZWQL7GO,Amazon PLCC Free-Financing Universal Merchant AAT-CB7UNXEXGIJTC,Amazon PLCC Free-Financing Universal Merchant #MP-gzasho-1593152694811,Amazon PLCC Free-Financing Universal Merchant AAT-WLBA4GZ52EAH4', 'B2B': 0, 'fulfilled_by': 'Easy Ship'}\u001b[0m\u001b[32;1m\u001b[1;3mAction:\n",
      "```\n",
      "{\n",
      "  \"action\": \"Final Answer\",\n",
      "  \"action_input\": \"Your order has been delivered.\"\n",
      "}\n",
      "```\u001b[0m\n",
      "\n",
      "\u001b[1m> Finished chain.\u001b[0m\n"
     ]
    },
    {
     "data": {
      "text/plain": [
       "{'input': \"Here it is : It's 171-9198151-1101146\",\n",
       " 'chat_history': [HumanMessage(content=\"Sorry, but my colis isn't arrived yet?\"),\n",
       "  AIMessage(content=\"I'm sorry, but I cannot help you with that. I do not have access to your order information.\")],\n",
       " 'output': 'Your order has been delivered.'}"
      ]
     },
     "execution_count": 75,
     "metadata": {},
     "output_type": "execute_result"
    }
   ],
   "source": [
    "agent_executor.invoke({\"input\": \"Here it is : It's 171-9198151-1101146\"})"
   ]
  },
  {
   "cell_type": "code",
   "execution_count": 77,
   "metadata": {},
   "outputs": [
    {
     "name": "stdout",
     "output_type": "stream",
     "text": [
      "================================\u001b[1m System Message \u001b[0m================================\n",
      "\n",
      "Respond to the human as helpfully and accurately as possible. You have access to the following tools:\n",
      "\n",
      "\u001b[33;1m\u001b[1;3m{tools}\u001b[0m\n",
      "\n",
      "Use a json blob to specify a tool by providing an action key (tool name) and an action_input key (tool input).\n",
      "\n",
      "Valid \"action\" values: \"Final Answer\" or \u001b[33;1m\u001b[1;3m{tool_names}\u001b[0m\n",
      "\n",
      "Provide only ONE action per $JSON_BLOB, as shown:\n",
      "\n",
      "```\n",
      "{\n",
      "  \"action\": $TOOL_NAME,\n",
      "  \"action_input\": $INPUT\n",
      "}\n",
      "```\n",
      "\n",
      "Follow this format:\n",
      "\n",
      "Question: input question to answer\n",
      "Thought: consider previous and subsequent steps\n",
      "Action:\n",
      "```\n",
      "$JSON_BLOB\n",
      "```\n",
      "Observation: action result\n",
      "... (repeat Thought/Action/Observation N times)\n",
      "Thought: I know what to respond\n",
      "Action:\n",
      "```\n",
      "{\n",
      "  \"action\": \"Final Answer\",\n",
      "  \"action_input\": \"Final response to human\"\n",
      "}\n",
      "\n",
      "Begin! Reminder to ALWAYS respond with a valid json blob of a single action. Use tools if necessary. Respond directly if appropriate. Format is Action:```$JSON_BLOB```then Observation\n",
      "\n",
      "=============================\u001b[1m Messages Placeholder \u001b[0m=============================\n",
      "\n",
      "\u001b[33;1m\u001b[1;3m{chat_history}\u001b[0m\n",
      "\n",
      "================================\u001b[1m Human Message \u001b[0m=================================\n",
      "\n",
      "\u001b[33;1m\u001b[1;3m{input}\u001b[0m\n",
      "\n",
      "\u001b[33;1m\u001b[1;3m{agent_scratchpad}\u001b[0m\n",
      " (reminder to respond in a JSON blob no matter what)\n"
     ]
    }
   ],
   "source": [
    "prompt.pretty_print()"
   ]
  },
  {
   "cell_type": "code",
   "execution_count": null,
   "metadata": {},
   "outputs": [],
   "source": []
  },
  {
   "cell_type": "code",
   "execution_count": null,
   "metadata": {},
   "outputs": [],
   "source": []
  },
  {
   "cell_type": "code",
   "execution_count": null,
   "metadata": {},
   "outputs": [],
   "source": []
  },
  {
   "cell_type": "code",
   "execution_count": null,
   "metadata": {},
   "outputs": [],
   "source": []
  },
  {
   "cell_type": "code",
   "execution_count": null,
   "metadata": {},
   "outputs": [],
   "source": []
  },
  {
   "cell_type": "code",
   "execution_count": null,
   "metadata": {},
   "outputs": [],
   "source": []
  },
  {
   "cell_type": "code",
   "execution_count": null,
   "metadata": {},
   "outputs": [],
   "source": []
  },
  {
   "cell_type": "code",
   "execution_count": null,
   "metadata": {},
   "outputs": [],
   "source": []
  }
 ],
 "metadata": {
  "kernelspec": {
   "display_name": "aikernel",
   "language": "python",
   "name": "aikernel"
  },
  "language_info": {
   "codemirror_mode": {
    "name": "ipython",
    "version": 3
   },
   "file_extension": ".py",
   "mimetype": "text/x-python",
   "name": "python",
   "nbconvert_exporter": "python",
   "pygments_lexer": "ipython3",
   "version": "3.11.7"
  }
 },
 "nbformat": 4,
 "nbformat_minor": 4
}

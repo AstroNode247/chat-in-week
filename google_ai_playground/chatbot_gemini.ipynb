{
 "cells": [
  {
   "cell_type": "code",
   "execution_count": 1,
   "metadata": {},
   "outputs": [],
   "source": [
    "from langchain_google_genai import ChatGoogleGenerativeAI\n",
    "from langchain_core.runnables import RunnableBranch\n",
    "from langchain_core.runnables.history import RunnableWithMessageHistory\n",
    "\n",
    "from langchain_community.chat_message_histories import ChatMessageHistory\n",
    "\n",
    "from dotenv import load_dotenv\n",
    "import os\n",
    "\n",
    "load_dotenv()\n",
    "\n",
    "API_KEY = os.getenv('GOOGLE_API_KEY')"
   ]
  },
  {
   "cell_type": "code",
   "execution_count": 2,
   "metadata": {},
   "outputs": [],
   "source": [
    "# Google gemini for chat based interaction\n",
    "chat_model = ChatGoogleGenerativeAI(model='gemini-pro', temperature=0.2, google_api_key=API_KEY,\n",
    "                                    convert_system_message_to_human=True)"
   ]
  },
  {
   "cell_type": "code",
   "execution_count": 3,
   "metadata": {},
   "outputs": [],
   "source": [
    "from langchain_core.prompts import ChatPromptTemplate, MessagesPlaceholder, HumanMessagePromptTemplate, PromptTemplate\n",
    "\n",
    "# Prompt template for guiding the all chat conversation\n",
    "system_message = \"\"\"You are a helpful assistant. Answer all questions to the best of your ability with detailed and \n",
    "                    actionable response.\"\"\"\n",
    "system_prompt = ChatPromptTemplate.from_messages([('system', system_message), \n",
    "                                           MessagesPlaceholder(variable_name='messages')])\n",
    "\n",
    "# Chain the model with the \n",
    "chain = system_prompt | chat_model"
   ]
  },
  {
   "cell_type": "markdown",
   "metadata": {},
   "source": [
    "The `MessagesPlaceholder` above inserts chat messages passed into the chain’s input."
   ]
  },
  {
   "cell_type": "code",
   "execution_count": 4,
   "metadata": {},
   "outputs": [
    {
     "data": {
      "text/plain": [
       "AIMessage(content=\" J'aime la programmation.\")"
      ]
     },
     "execution_count": 4,
     "metadata": {},
     "output_type": "execute_result"
    }
   ],
   "source": [
    "from langchain_core.messages import HumanMessage, AIMessage\n",
    "\n",
    "prompt = 'Translate this sentence from English to French: I love programming.'\n",
    "chain.invoke(\n",
    "    {'messages': [HumanMessage(content=prompt)]}\n",
    ")"
   ]
  },
  {
   "cell_type": "markdown",
   "metadata": {},
   "source": [
    "That look greats, however, the model itself doesn't have the ability to sustain a normal conversation. Just see that,"
   ]
  },
  {
   "cell_type": "code",
   "execution_count": 5,
   "metadata": {},
   "outputs": [
    {
     "data": {
      "text/plain": [
       "AIMessage(content='I am a helpful assistant designed to provide comprehensive and actionable responses to your questions. I strive to deliver accurate and informative answers to the best of my abilities.\\n\\nIf you have any specific questions or need assistance with a particular topic, please feel free to ask, and I will do my best to provide you with a detailed and helpful response.')"
      ]
     },
     "execution_count": 5,
     "metadata": {},
     "output_type": "execute_result"
    }
   ],
   "source": [
    "chain.invoke({'messages': [HumanMessage(content='What did you just say')]})"
   ]
  },
  {
   "cell_type": "markdown",
   "metadata": {},
   "source": [
    "You can see that he doesn't have any conception about the last conversation, and seem to be lost.\n",
    "\n",
    "Having a message history will fix this issue and allow him to track the previous conversation through history.    "
   ]
  },
  {
   "cell_type": "markdown",
   "metadata": {},
   "source": [
    "# Memory without RAG"
   ]
  },
  {
   "cell_type": "code",
   "execution_count": 6,
   "metadata": {},
   "outputs": [],
   "source": [
    "# Based on preference\n",
    "from langchain.memory import ConversationBufferMemory\n",
    "from langchain.chains import ConversationChain\n",
    "from langchain.schema import SystemMessage\n"
   ]
  },
  {
   "cell_type": "code",
   "execution_count": 7,
   "metadata": {},
   "outputs": [],
   "source": [
    "# Prompt template for guiding the all chat conversation\n",
    "system_message = \"You are a helpful assistant. Answer all questions to the best of your ability.\"\n",
    "system_prompt = ChatPromptTemplate.from_messages([\n",
    "        SystemMessage(content=system_message), \n",
    "        MessagesPlaceholder(variable_name='chat_history'),\n",
    "        HumanMessagePromptTemplate.from_template(\"{human_input}\")\n",
    "    ])"
   ]
  },
  {
   "cell_type": "code",
   "execution_count": 8,
   "metadata": {},
   "outputs": [],
   "source": [
    "from langchain.chains import LLMChain\n",
    "memory = ConversationBufferMemory(memory_key='chat_history', return_messages=True)\n",
    "conversation = LLMChain(llm=chat_model, prompt=system_prompt, memory=memory, verbose=False)"
   ]
  },
  {
   "cell_type": "code",
   "execution_count": 9,
   "metadata": {},
   "outputs": [
    {
     "data": {
      "text/plain": [
       "\"J'adore la programmation.\""
      ]
     },
     "execution_count": 9,
     "metadata": {},
     "output_type": "execute_result"
    }
   ],
   "source": [
    "prompt = 'Translate this sentence from English to French: I love programming.'\n",
    "conversation.predict(human_input=prompt)"
   ]
  },
  {
   "cell_type": "code",
   "execution_count": 10,
   "metadata": {},
   "outputs": [
    {
     "data": {
      "text/plain": [
       "'I just said \"I love programming\" in French.\\n\\nThe original sentence in English was \"I love programming.\" I used Google Translate to translate this sentence into French, which gave me the translation \"J\\'adore la programmation.\"\\n\\nIs there anything else I can help you with today?'"
      ]
     },
     "execution_count": 10,
     "metadata": {},
     "output_type": "execute_result"
    }
   ],
   "source": [
    "conversation.predict(human_input='What did you just say')"
   ]
  },
  {
   "cell_type": "markdown",
   "metadata": {},
   "source": [
    "That look awesome, we have just introduce a memory to the chatbot. Now we can have a great conversation with it which allow us to use it in various application like assistant, client support or ecommerce. Also, we can use it by adding external data source to interact with which bring us to the next step **Retrieval**."
   ]
  },
  {
   "cell_type": "markdown",
   "metadata": {},
   "source": [
    "# Retrieval"
   ]
  },
  {
   "cell_type": "markdown",
   "metadata": {},
   "source": [
    "In this section, we will use Milvus as VectorStore to store all the information that the chatbot through all of the conversation. "
   ]
  },
  {
   "cell_type": "code",
   "execution_count": 11,
   "metadata": {},
   "outputs": [],
   "source": [
    "from langchain.text_splitter import RecursiveCharacterTextSplitter\n",
    "from langchain_community.vectorstores import Milvus\n",
    "from langchain_community.document_loaders import PyPDFLoader\n",
    "from langchain.chains import RetrievalQA\n",
    "\n",
    "from langchain_google_genai import GoogleGenerativeAIEmbeddings\n",
    "from pymilvus import connections, db, utility"
   ]
  },
  {
   "cell_type": "code",
   "execution_count": 12,
   "metadata": {},
   "outputs": [],
   "source": [
    "# Load new data\n",
    "loader = PyPDFLoader(\"Selling_the_Invisible_A_Field_Guide_to_M.pdf\")\n",
    "docs = loader.load()"
   ]
  },
  {
   "cell_type": "code",
   "execution_count": 13,
   "metadata": {
    "scrolled": true
   },
   "outputs": [],
   "source": [
    "# Embeddings\n",
    "embeddings = GoogleGenerativeAIEmbeddings(model=\"models/embedding-001\", google_api_key=API_KEY)\n",
    "\n",
    "# Document Splitter\n",
    "text_splitter = RecursiveCharacterTextSplitter(\n",
    "        chunk_size=500,\n",
    "        chunk_overlap=100\n",
    "    )\n",
    "docs_splitted = text_splitter.split_documents(docs)\n",
    "\n",
    "# Vectore store\n",
    "connection_args = {\"host\": \"127.0.0.1\", \"port\": \"19530\"}\n",
    "vector_store = Milvus(embeddings, connection_args=connection_args, \n",
    "                      collection_name='Selling_Invisible')\n",
    "\n",
    "# k is the number of chunks to retrieve\n",
    "retriever = vector_store.as_retriever()"
   ]
  },
  {
   "cell_type": "code",
   "execution_count": 14,
   "metadata": {},
   "outputs": [],
   "source": [
    "from langchain.chains.combine_documents import create_stuff_documents_chain\n",
    "\n",
    "SYSTEM_TEMPLATE = \"\"\"\n",
    "Answer the user's questions based on the below context.\n",
    "\n",
    "<context>\n",
    "{context}\n",
    "</context>\n",
    "\"\"\" \n",
    "\n",
    "question_answering_prompt = ChatPromptTemplate.from_messages(\n",
    "    [(\"system\", SYSTEM_TEMPLATE), MessagesPlaceholder(variable_name=\"messages\")]\n",
    ")\n",
    "document_chain = create_stuff_documents_chain(chat_model, question_answering_prompt)"
   ]
  },
  {
   "cell_type": "code",
   "execution_count": 15,
   "metadata": {},
   "outputs": [
    {
     "data": {
      "text/plain": [
       "'- Understand and satisfy the person before trying to satisfy the client.\\n- Make every employee a marketer.\\n- Create the possible service, not just what the market needs or wants.'"
      ]
     },
     "execution_count": 15,
     "metadata": {},
     "output_type": "execute_result"
    }
   ],
   "source": [
    "document_chain.invoke({\n",
    "    \"context\": retriever.invoke(\"How to sell a service ?\"),\n",
    "    \"messages\": [HumanMessage(content=\"How to sell a service ?\")]\n",
    "})"
   ]
  },
  {
   "cell_type": "markdown",
   "metadata": {},
   "source": [
    "Assembling stuff."
   ]
  },
  {
   "cell_type": "code",
   "execution_count": 16,
   "metadata": {},
   "outputs": [],
   "source": [
    "from langchain_core.runnables import RunnablePassthrough\n",
    "from typing import Dict\n",
    "\n",
    "def parse_retriever_input(params: Dict):\n",
    "    return params[\"messages\"][-1].content\n",
    "\n",
    "retrieval_chains = RunnablePassthrough.assign(context=parse_retriever_input | retriever,).assign(answer=document_chain)"
   ]
  },
  {
   "cell_type": "code",
   "execution_count": 17,
   "metadata": {},
   "outputs": [
    {
     "data": {
      "text/plain": [
       "{'messages': [HumanMessage(content='How to sell a service ?')],\n",
       " 'context': [Document(page_content='• Tell people in a single sentence why they should buy from you. \\n• Advertise. \\n• Make your service easy to order or buy. \\n• Talk about the other person, not yourself. \\n• Show that you care passionately about your clients’ business. \\n• Write a mission statement and keep it private. \\n• Draw a clear map. After every missi on statement, add an objectives statement. \\n• If the mission statement doesn’t inspire people to act, change it.', metadata={'source': 'Selling_the_Invisible_A_Field_Guide_to_M.pdf', 'page': 8}),\n",
       "  Document(page_content='are buying an experience. \\n \\nIf you are selling a service, you’re  actually selling a relationship. \\n \\nBefore you try to satisfy your client, understand and satisfy the person. That means knowing his \\nlikes, hobbies, pets, family life, dreams and goals. \\n \\nYour real competition is sitting across the table from you. Plan accordingly. \\n \\nYour prospect faces three options: using your servic e, doing it themselves, or not doing it at all.', metadata={'source': 'Selling_the_Invisible_A_Field_Guide_to_M.pdf', 'page': 3}),\n",
       "  Document(page_content='Make every employee a marketer. The fastest, c heapest way to market your service is through \\nyour employees. Every act, ever y smile, or telephone call is a marketing act upon which your \\nsuccess depends.', metadata={'source': 'Selling_the_Invisible_A_Field_Guide_to_M.pdf', 'page': 2}),\n",
       "  Document(page_content='Selling The Invisible  Page 3 \\nwww.bizsum.com   © 2001, 2002 Copyright BusinessSummaries.com where companies like Disney, FedEx, or Lex us are, giving customers an experience far \\nbeyond anything they could have imagined. \\n \\n• Create the possible service. Don’t just creat e what the market needs or wants. Create \\nwhat it would love. \\n \\n• When conducting a survey, phone or oral surv eys are better methods because you can', metadata={'source': 'Selling_the_Invisible_A_Field_Guide_to_M.pdf', 'page': 2})],\n",
       " 'answer': \"To sell a service, you are actually selling a relationship, so it's important to understand and satisfy the person before trying to satisfy the client.\"}"
      ]
     },
     "execution_count": 17,
     "metadata": {},
     "output_type": "execute_result"
    }
   ],
   "source": [
    "retrieval_chains.invoke({\n",
    "    \"messages\": [HumanMessage(content=\"How to sell a service ?\")]\n",
    "})"
   ]
  },
  {
   "cell_type": "code",
   "execution_count": 18,
   "metadata": {},
   "outputs": [
    {
     "data": {
      "text/plain": [
       "[Document(page_content='Last word: Take the risk. Get out there and let opportunity hit you.', metadata={'source': 'Selling_the_Invisible_A_Field_Guide_to_M.pdf', 'page': 9}),\n",
       " Document(page_content='subscriptions if reply forms are ready and postage has been paid for. Forget looking \\nlike the superior choice, focus on being an ex cellent choice. Eliminate anything that \\nmakes you a bad choice.', metadata={'source': 'Selling_the_Invisible_A_Field_Guide_to_M.pdf', 'page': 5}),\n",
       " Document(page_content='• Tell people in a single sentence why they should buy from you. \\n• Advertise. \\n• Make your service easy to order or buy. \\n• Talk about the other person, not yourself. \\n• Show that you care passionately about your clients’ business. \\n• Write a mission statement and keep it private. \\n• Draw a clear map. After every missi on statement, add an objectives statement. \\n• If the mission statement doesn’t inspire people to act, change it.', metadata={'source': 'Selling_the_Invisible_A_Field_Guide_to_M.pdf', 'page': 8}),\n",
       " Document(page_content='Make every employee a marketer. The fastest, c heapest way to market your service is through \\nyour employees. Every act, ever y smile, or telephone call is a marketing act upon which your \\nsuccess depends.', metadata={'source': 'Selling_the_Invisible_A_Field_Guide_to_M.pdf', 'page': 2})]"
      ]
     },
     "execution_count": 18,
     "metadata": {},
     "output_type": "execute_result"
    }
   ],
   "source": [
    "retriever.invoke(\"Tell me more!\")"
   ]
  },
  {
   "cell_type": "markdown",
   "metadata": {},
   "source": [
    "## Query transformation"
   ]
  },
  {
   "cell_type": "code",
   "execution_count": 19,
   "metadata": {},
   "outputs": [],
   "source": [
    "from langchain_core.output_parsers import StrOutputParser\n",
    "from langchain_core.runnables import RunnableBranch\n",
    "\n",
    "QUERY_SYSTEM_TEMPLATE = \"\"\"Answer the user's questions based on the below context. \"\"\" \n",
    "query_transform_prompt = ChatPromptTemplate.from_messages([\n",
    "    (\"system\", QUERY_SYSTEM_TEMPLATE),\n",
    "    MessagesPlaceholder(variable_name=\"messages\")\n",
    "])\n",
    "\n",
    "query_transforming_retriever_chain = RunnableBranch(\n",
    "    (\n",
    "        lambda x: len(x.get(\"messages\", [])) == 1,\n",
    "        (lambda x: x[\"messages\"][-1].content) | retriever\n",
    "    ),\n",
    "    query_transform_prompt | chat_model | StrOutputParser() | retriever\n",
    ").with_config(run_name=\"chat_retriever_chain\")"
   ]
  },
  {
   "cell_type": "code",
   "execution_count": 20,
   "metadata": {},
   "outputs": [
    {
     "data": {
      "text/plain": [
       "AIMessage(content=\"To sell a service, focus on the customer's needs and make it easy for them to buy from you.\")"
      ]
     },
     "execution_count": 20,
     "metadata": {},
     "output_type": "execute_result"
    }
   ],
   "source": [
    "query_transform_chain = query_transform_prompt | chat_model\n",
    "\n",
    "query_transform_chain.invoke({\n",
    "    \"messages\": [\n",
    "        HumanMessage(content=\"How to sell a service ?\"),\n",
    "        AIMessage(content='• Tell people in a single sentence why they should buy from you. \\n• Advertise. \\n• Make your service easy to order or buy. \\n• Talk about the other person, not yourself. \\n• Show that you care passionately about your clients’ business.'),\n",
    "        HumanMessage(content=\"Summarize!\")\n",
    "    ]\n",
    "})"
   ]
  },
  {
   "cell_type": "code",
   "execution_count": 21,
   "metadata": {},
   "outputs": [],
   "source": [
    "conversation_retriever_chain = RunnablePassthrough.assign(\n",
    "    context=query_transforming_retriever_chain\n",
    ").assign(answer=document_chain)"
   ]
  },
  {
   "cell_type": "code",
   "execution_count": 22,
   "metadata": {
    "scrolled": true
   },
   "outputs": [
    {
     "data": {
      "text/plain": [
       "{'messages': [HumanMessage(content='How to sell a service ?')],\n",
       " 'context': [Document(page_content='• Tell people in a single sentence why they should buy from you. \\n• Advertise. \\n• Make your service easy to order or buy. \\n• Talk about the other person, not yourself. \\n• Show that you care passionately about your clients’ business. \\n• Write a mission statement and keep it private. \\n• Draw a clear map. After every missi on statement, add an objectives statement. \\n• If the mission statement doesn’t inspire people to act, change it.', metadata={'source': 'Selling_the_Invisible_A_Field_Guide_to_M.pdf', 'page': 8}),\n",
       "  Document(page_content='are buying an experience. \\n \\nIf you are selling a service, you’re  actually selling a relationship. \\n \\nBefore you try to satisfy your client, understand and satisfy the person. That means knowing his \\nlikes, hobbies, pets, family life, dreams and goals. \\n \\nYour real competition is sitting across the table from you. Plan accordingly. \\n \\nYour prospect faces three options: using your servic e, doing it themselves, or not doing it at all.', metadata={'source': 'Selling_the_Invisible_A_Field_Guide_to_M.pdf', 'page': 3}),\n",
       "  Document(page_content='Make every employee a marketer. The fastest, c heapest way to market your service is through \\nyour employees. Every act, ever y smile, or telephone call is a marketing act upon which your \\nsuccess depends.', metadata={'source': 'Selling_the_Invisible_A_Field_Guide_to_M.pdf', 'page': 2}),\n",
       "  Document(page_content='Selling The Invisible  Page 3 \\nwww.bizsum.com   © 2001, 2002 Copyright BusinessSummaries.com where companies like Disney, FedEx, or Lex us are, giving customers an experience far \\nbeyond anything they could have imagined. \\n \\n• Create the possible service. Don’t just creat e what the market needs or wants. Create \\nwhat it would love. \\n \\n• When conducting a survey, phone or oral surv eys are better methods because you can', metadata={'source': 'Selling_the_Invisible_A_Field_Guide_to_M.pdf', 'page': 2})],\n",
       " 'answer': 'The context does not provide information on how to sell a service.'}"
      ]
     },
     "execution_count": 22,
     "metadata": {},
     "output_type": "execute_result"
    }
   ],
   "source": [
    "conversation_retriever_chain.invoke(\n",
    "    {\n",
    "        \"messages\": [HumanMessage(content=\"How to sell a service ?\")]\n",
    "    }\n",
    ")"
   ]
  },
  {
   "cell_type": "code",
   "execution_count": 23,
   "metadata": {
    "scrolled": true
   },
   "outputs": [
    {
     "data": {
      "text/plain": [
       "{'messages': [HumanMessage(content='How to sell a service ?'),\n",
       "  AIMessage(content='- Tell people in a single sentence why they should buy from you.\\n- Advertise.\\n- Make your service easy to order or buy.\\n- Talk about the other person, not yourself.\\n- Show that you care passionately about your clients’ business.'),\n",
       "  HumanMessage(content='Tell me more!')],\n",
       " 'context': [Document(page_content='• Tell people in a single sentence why they should buy from you. \\n• Advertise. \\n• Make your service easy to order or buy. \\n• Talk about the other person, not yourself. \\n• Show that you care passionately about your clients’ business. \\n• Write a mission statement and keep it private. \\n• Draw a clear map. After every missi on statement, add an objectives statement. \\n• If the mission statement doesn’t inspire people to act, change it.', metadata={'source': 'Selling_the_Invisible_A_Field_Guide_to_M.pdf', 'page': 8}),\n",
       "  Document(page_content='are buying an experience. \\n \\nIf you are selling a service, you’re  actually selling a relationship. \\n \\nBefore you try to satisfy your client, understand and satisfy the person. That means knowing his \\nlikes, hobbies, pets, family life, dreams and goals. \\n \\nYour real competition is sitting across the table from you. Plan accordingly. \\n \\nYour prospect faces three options: using your servic e, doing it themselves, or not doing it at all.', metadata={'source': 'Selling_the_Invisible_A_Field_Guide_to_M.pdf', 'page': 3}),\n",
       "  Document(page_content='examples to make your point. Never use two words when one will do.  \\n• Prove your service quality. Be hones t. Tricks and gimmicks are not the key. \\n• If you think your promotional idea is silly or unprofessional, it is. \\n• Prospects buy how good you are at who you are. \\n• Convey that you are positively good. Do not try to say you are the best or superior. \\nPeople like to feel you are comfor table like a pair of old slippers. \\n• It is always better to say too little than too much.', metadata={'source': 'Selling_the_Invisible_A_Field_Guide_to_M.pdf', 'page': 8}),\n",
       "  Document(page_content='ad and start working on your service. \\n \\n• If you fail to communicate your message clearly, it will cost you. Service is the heart of \\nservice marketing, but marketing is the brains. If the brain fails, the heart follows. \\n \\n• Don’t just think better. Think different. Citicorp pioneered automated teller machines and \\naggressive marketing of credit cards. McD onald’s radically redefined fast food into a \\nprocess-driven approach.', metadata={'source': 'Selling_the_Invisible_A_Field_Guide_to_M.pdf', 'page': 1})],\n",
       " 'answer': '**How to sell a service**\\n\\n1. **Tell people in a single sentence why they should buy from you.**\\n\\nYour value proposition should be clear and concise, and it should highlight what makes your service unique and valuable. For example, \"We provide the highest quality customer service in the industry.\"\\n\\n2. **Advertise.**\\n\\nGet the word out about your service through advertising. This can be done through online channels, such as social media and search engine marketing, as well as offline channels, such as print advertising and billboards.\\n\\n3. **Make your service easy to order or buy.**\\n\\nMake it easy for potential customers to do business with you. This means having a clear and simple ordering process, and making it easy to pay for your service.\\n\\n4. **Talk about the other person, not yourself.**\\n\\nWhen you\\'re selling a service, it\\'s important to focus on the needs of the customer. Talk about how your service can help them achieve their goals, and avoid talking about yourself or your company too much.\\n\\n5. **Show that you care passionately about your clients’ business.**\\n\\nCustomers want to know that you\\'re invested in their success. Show them that you care about their business by going the extra mile, and by being responsive to their needs.\\n\\n6. **Write a mission statement and keep it private.**\\n\\nA mission statement is a statement of your company\\'s purpose. It should be clear, concise, and inspiring. Keep your mission statement private, so that you can focus on achieving your goals without being distracted by outside influences.\\n\\n7. **Draw a clear map. After every mission statement, add an objectives statement.**\\n\\nAn objectives statement is a statement of what you need to do to achieve your mission. It should be specific, measurable, achievable, relevant, and time-bound.\\n\\n8. **If the mission statement doesn’t inspire people to act, change it.**\\n\\nYour mission statement should inspire you and your team to take action. If it doesn\\'t, then it\\'s not effective. Change it until it does.\\n\\n9. **Prove your service quality. Be honest. Tricks and gimmicks are not the key.**\\n\\nCustomers want to know that they can trust you. Prove your service quality by being honest and transparent. Avoid using tricks and gimmicks to sell your service.\\n\\n10. **If you think your promotional idea is silly or unprofessional, it is.**\\n\\nYour promotional ideas should be professional and respectful. If you think an idea is silly or unprofessional, then it probably is. Don\\'t use it.\\n\\n11. **Prospects buy how good you are at who you are.**\\n\\nCustomers want to do business with people they like and trust. Be yourself, and let your personality shine through.\\n\\n12. **Convey that you are positively good. Do not try to say you are the best or superior.**\\n\\nCustomers are more likely to be attracted to a service that is positively good, rather than one that is the best or superior. Avoid using superlatives, and focus on highlighting the positive aspects of your service.\\n\\n13. **People like to feel you are comfortable like a pair of old slippers.**\\n\\nCustomers want to feel comfortable doing business with you. Be approachable and easy to talk to.\\n\\n14. **It is always better to say too little than too much.**\\n\\nWhen it comes to selling a service, it\\'s always better to say too little than too much. Avoid overwhelming potential customers with information.\\n\\n15. **If you fail to communicate your message clearly, it will cost you.**\\n\\nYour marketing message should be clear and concise. If you fail to communicate your message clearly, it will cost you customers.\\n\\n16. **Service is the heart of service marketing, but marketing is the brains. If the brain fails, the heart follows.**\\n\\nMarketing is essential for selling a service. It\\'s the brains of your business. If you fail to market your service effectively, it will fail.\\n\\n17. **Don’t just think better. Think different.**\\n\\nTo be successful in selling a service, you need to think differently. Don\\'t just do what everyone else is doing. Find a unique way to market your service, and stand out from the competition.'}"
      ]
     },
     "execution_count": 23,
     "metadata": {},
     "output_type": "execute_result"
    }
   ],
   "source": [
    "conversation_retriever_chain.invoke(\n",
    "    {\n",
    "        \"messages\": [\n",
    "            HumanMessage(content=\"How to sell a service ?\"),\n",
    "            AIMessage(\n",
    "                content=\"- Tell people in a single sentence why they should buy from you.\\n- Advertise.\\n- Make your service easy to order or buy.\\n- Talk about the other person, not yourself.\\n- Show that you care passionately about your clients’ business.\"\n",
    "            ),\n",
    "            HumanMessage(content=\"Tell me more!\"),\n",
    "        ],\n",
    "    }\n",
    ")"
   ]
  },
  {
   "cell_type": "markdown",
   "metadata": {},
   "source": [
    "## Add memory to query transformation"
   ]
  },
  {
   "cell_type": "code",
   "execution_count": 38,
   "metadata": {},
   "outputs": [],
   "source": [
    "chat_history = ChatMessageHistory()\n",
    "ASSISTANT_PROMPT = \"You're a helpful assistant that help human to reach their goal\"\n",
    "query_conversation_prompt = ChatPromptTemplate.from_messages([\n",
    "    (\"system\", QUERY_SYSTEM_TEMPLATE),\n",
    "    MessagesPlaceholder(variable_name=\"chat_history\"),\n",
    "    (\"human\", \"{input}\")\n",
    "])\n",
    "\n",
    "query_transforming_chain = query_conversation_prompt | chat_model\n",
    "query_transforming_chain_with_history = RunnableWithMessageHistory(\n",
    "    query_transforming_chain,\n",
    "    lambda session_id: chat_history,\n",
    "    input_messages_key=\"input\",\n",
    "    history_messages_key=\"chat_history\"\n",
    ")"
   ]
  },
  {
   "cell_type": "code",
   "execution_count": 39,
   "metadata": {},
   "outputs": [],
   "source": [
    "query_transforming_retriever_chain = RunnableBranch(\n",
    "    (\n",
    "        lambda x: len(x.get(\"chat_history\", [])) == 1,\n",
    "        (lambda x: x[\"chat_history\"][-1].content) | retriever\n",
    "    ),\n",
    "    query_transforming_chain_with_history | StrOutputParser() | retriever\n",
    ").with_config(run_name=\"chat_mode\")"
   ]
  },
  {
   "cell_type": "code",
   "execution_count": 40,
   "metadata": {},
   "outputs": [],
   "source": [
    "SYSTEM_TEMPLATE = \"\"\"\n",
    "Answer the user's questions based on the below context.\n",
    "\n",
    "<context>\n",
    "{context}\n",
    "</context>\n",
    "\"\"\" \n",
    "\n",
    "question_answering_prompt = ChatPromptTemplate.from_messages(\n",
    "    [\n",
    "        (\"system\", SYSTEM_TEMPLATE), \n",
    "        MessagesPlaceholder(variable_name=\"chat_history\"),\n",
    "        (\"human\", \"{input}\")\n",
    "    ]\n",
    ")\n",
    "\n",
    "document_chain = question_answering_prompt | chat_model\n",
    "\n",
    "# Add history\n",
    "document_chain_with_history = RunnableWithMessageHistory(\n",
    "    document_chain,\n",
    "    lambda session_id: chat_history,\n",
    "    input_messages_key=\"input\",\n",
    "    history_messages_key=\"chat_history\"\n",
    ")"
   ]
  },
  {
   "cell_type": "code",
   "execution_count": 41,
   "metadata": {},
   "outputs": [],
   "source": [
    "conversation_retriever_chain = RunnablePassthrough.assign(\n",
    "    context=query_transforming_retriever_chain\n",
    ").assign(answer=document_chain_with_history)"
   ]
  },
  {
   "cell_type": "code",
   "execution_count": 42,
   "metadata": {
    "scrolled": true
   },
   "outputs": [
    {
     "name": "stdout",
     "output_type": "stream",
     "text": [
      "**How to Use Social Proof for Selling Your Stuff**\n",
      "\n",
      "Social proof is a psychological phenomenon where people conform to the actions or beliefs of others. In the context of selling, social proof can be used to persuade potential customers to buy your products or services by showing them that others have already done so.\n",
      "\n",
      "Here are some ways to use social proof for selling your stuff:\n",
      "\n",
      "* **Display customer testimonials and reviews:** Positive feedback from satisfied customers can be a powerful form of social proof. Display testimonials and reviews on your website, social media pages, and other marketing materials.\n",
      "* **Use social media to show how others are using your products:** Share photos and videos of people using and enjoying your products. This can help potential customers see how your products can fit into their own lives.\n",
      "* **Partner with influencers:** Partner with influencers in your industry to promote your products. When influencers endorse your products, it can give them a sense of credibility and social proof.\n",
      "* **Highlight your sales numbers:** If you have sold a significant number of products, highlight this fact in your marketing materials. This can show potential customers that others are buying and enjoying your products.\n",
      "* **Offer social proof guarantees:** Offer guarantees that are backed by social proof, such as a \"100% satisfaction guarantee\" or a \"money-back guarantee.\" This can give potential customers peace of mind and make them more likely to buy from you.\n",
      "\n",
      "By using social proof, you can tap into the power of conformity and persuasion to increase sales and grow your business.\n"
     ]
    }
   ],
   "source": [
    "response = conversation_retriever_chain.invoke(\n",
    "    {\n",
    "        \"input\": \"How to use social proof for selling my stuff ?\"\n",
    "    },\n",
    "    {\"configurable\": {\"session_id\": \"unused\"}}\n",
    ")\n",
    "print(response['answer'].content)"
   ]
  },
  {
   "cell_type": "code",
   "execution_count": 43,
   "metadata": {
    "scrolled": true
   },
   "outputs": [
    {
     "name": "stdout",
     "output_type": "stream",
     "text": [
      "**Example of Using Social Proof for Selling a Service**\n",
      "\n",
      "Let's say you are a freelance writer and you want to use social proof to sell your services. Here are some things you could do:\n",
      "\n",
      "* **Display testimonials from satisfied clients on your website and social media pages:** Include positive feedback from clients who have been happy with your writing services. This will show potential clients that others have had a good experience working with you.\n",
      "* **Use social media to share examples of your work:** Share blog posts, articles, and other writing samples that you have created for clients. This will help potential clients see the quality of your work and how it can benefit them.\n",
      "* **Partner with other businesses in your industry:** Partner with complementary businesses, such as web designers or marketing agencies. Offer to provide your writing services to their clients, and they can offer their services to your clients. This can help you reach a wider audience and build credibility.\n",
      "* **Highlight your experience and実績:** If you have a lot of experience in a particular industry or niche, highlight this in your marketing materials. This will show potential clients that you are an expert in your field and that you can provide them with the high-quality writing services they need.\n",
      "* **Offer a satisfaction guarantee:** Offer a satisfaction guarantee that is backed by social proof, such as a \"100% satisfaction guarantee\" or a \"money-back guarantee.\" This will give potential clients peace of mind and make them more likely to hire you.\n",
      "\n",
      "By using these social proof techniques, you can increase the credibility of your freelance writing business and persuade more people to hire you.\n"
     ]
    }
   ],
   "source": [
    "response = conversation_retriever_chain.invoke(\n",
    "    {\n",
    "        \"input\": \"Could you provide an example ?\"\n",
    "    },\n",
    "    {\"configurable\": {\"session_id\": \"unused\"}}\n",
    ")\n",
    "print(response['answer'].content)"
   ]
  },
  {
   "cell_type": "code",
   "execution_count": 46,
   "metadata": {},
   "outputs": [
    {
     "data": {
      "text/plain": [
       "{'input': 'Could you provide an example ?',\n",
       " 'context': [Document(page_content='• Tell people in a single sentence why they should buy from you. \\n• Advertise. \\n• Make your service easy to order or buy. \\n• Talk about the other person, not yourself. \\n• Show that you care passionately about your clients’ business. \\n• Write a mission statement and keep it private. \\n• Draw a clear map. After every missi on statement, add an objectives statement. \\n• If the mission statement doesn’t inspire people to act, change it.', metadata={'source': 'Selling_the_Invisible_A_Field_Guide_to_M.pdf', 'page': 8}),\n",
       "  Document(page_content='examples to make your point. Never use two words when one will do.  \\n• Prove your service quality. Be hones t. Tricks and gimmicks are not the key. \\n• If you think your promotional idea is silly or unprofessional, it is. \\n• Prospects buy how good you are at who you are. \\n• Convey that you are positively good. Do not try to say you are the best or superior. \\nPeople like to feel you are comfor table like a pair of old slippers. \\n• It is always better to say too little than too much.', metadata={'source': 'Selling_the_Invisible_A_Field_Guide_to_M.pdf', 'page': 8}),\n",
       "  Document(page_content='should buy from you. \\n• One good story beats a dozen adjectives. Stories are the easiest way to spread word of \\nmouth. Stories are passed on and make things more credible or personal and more \\npersuasive. \\n• Attack the stereotype your  prospect has about you. \\n• Good basic communication is good basic marketi ng.  Be specific, and vivid. Use familiar \\nexamples to make your point. Never use two words when one will do.', metadata={'source': 'Selling_the_Invisible_A_Field_Guide_to_M.pdf', 'page': 8}),\n",
       "  Document(page_content='• Address the error immediately. Hire sales peopl e who can turn a mistake into a profitable \\nexperience. If a customer walks in and t he goods you promised aren’t ready, apologize \\nand have them ready in five minutes. The five  minutes he spends loitering in your shop \\nand looking at other things could mean more business for you. \\n \\n• Write an ad for your service. If after a week your best ad is still weak, stop working on the \\nad and start working on your service.', metadata={'source': 'Selling_the_Invisible_A_Field_Guide_to_M.pdf', 'page': 1})],\n",
       " 'answer': AIMessage(content='**Example of Using Social Proof for Selling a Service**\\n\\nLet\\'s say you are a freelance writer and you want to use social proof to sell your services. Here are some things you could do:\\n\\n* **Display testimonials from satisfied clients on your website and social media pages:** Include positive feedback from clients who have been happy with your writing services. This will show potential clients that others have had a good experience working with you.\\n* **Use social media to share examples of your work:** Share blog posts, articles, and other writing samples that you have created for clients. This will help potential clients see the quality of your work and how it can benefit them.\\n* **Partner with other businesses in your industry:** Partner with complementary businesses, such as web designers or marketing agencies. Offer to provide your writing services to their clients, and they can offer their services to your clients. This can help you reach a wider audience and build credibility.\\n* **Highlight your experience and実績:** If you have a lot of experience in a particular industry or niche, highlight this in your marketing materials. This will show potential clients that you are an expert in your field and that you can provide them with the high-quality writing services they need.\\n* **Offer a satisfaction guarantee:** Offer a satisfaction guarantee that is backed by social proof, such as a \"100% satisfaction guarantee\" or a \"money-back guarantee.\" This will give potential clients peace of mind and make them more likely to hire you.\\n\\nBy using these social proof techniques, you can increase the credibility of your freelance writing business and persuade more people to hire you.')}"
      ]
     },
     "execution_count": 46,
     "metadata": {},
     "output_type": "execute_result"
    }
   ],
   "source": [
    "response"
   ]
  },
  {
   "cell_type": "markdown",
   "metadata": {},
   "source": [
    "# Add memory management to RAG"
   ]
  },
  {
   "cell_type": "markdown",
   "metadata": {},
   "source": [
    "## RAG without Memory"
   ]
  },
  {
   "cell_type": "code",
   "execution_count": 30,
   "metadata": {},
   "outputs": [],
   "source": [
    "from langchain import hub\n",
    "\n",
    "\n",
    "def format_docs(docs):\n",
    "    return \"\\n\\n\".join(doc.page_content for doc in docs)\n",
    "\n",
    "question_answering_prompt = ChatPromptTemplate.from_messages(\n",
    "    [(\"system\", SYSTEM_TEMPLATE), MessagesPlaceholder(variable_name=\"messages\")]\n",
    ")\n",
    "prompt = \"\"\"Use the following context to answer the question at the end.\n",
    "    Always say “Thanks for asking!” » at the end of the answer.\n",
    "\n",
    "    {context}\n",
    "    \"\"\"\n",
    "\n",
    "QA_CHAIN_PROMPT = PromptTemplate.from_template(prompt)\n",
    "question_answering_prompt = ChatPromptTemplate.from_messages([\n",
    "    (\"system\", prompt),\n",
    "    # MessagesPlaceholder(variable_name=\"messages\")\n",
    "    (\"human\", \"{question}\")\n",
    "])\n",
    "\n",
    "rag_chain = (\n",
    "    {\"context\": retriever | format_docs, \"question\": RunnablePassthrough()}\n",
    "    | question_answering_prompt\n",
    "    | chat_model\n",
    "    | StrOutputParser()\n",
    ")"
   ]
  },
  {
   "cell_type": "code",
   "execution_count": 31,
   "metadata": {
    "scrolled": true
   },
   "outputs": [
    {
     "data": {
      "text/plain": [
       "'You’re actually selling a relationship when you’re selling a service. Thanks for asking!'"
      ]
     },
     "execution_count": 31,
     "metadata": {},
     "output_type": "execute_result"
    }
   ],
   "source": [
    "rag_chain.invoke(\"How to sell a service ?\")"
   ]
  },
  {
   "cell_type": "markdown",
   "metadata": {},
   "source": [
    "Show source that is used to understand well the response.  "
   ]
  },
  {
   "cell_type": "code",
   "execution_count": 32,
   "metadata": {},
   "outputs": [],
   "source": [
    "from langchain_core.runnables import RunnableParallel\n",
    "\n",
    "rag_chain_from_docs = (\n",
    "    RunnablePassthrough.assign(context=(lambda x: format_docs(x['context'])))\n",
    "    | QA_CHAIN_PROMPT\n",
    "    | chat_model\n",
    "    | StrOutputParser()\n",
    ")\n",
    "\n",
    "rag_chain_with_source = RunnableParallel(\n",
    "    {\"context\": retriever, \"question\": RunnablePassthrough()}\n",
    ").assign(answer=rag_chain_from_docs)"
   ]
  },
  {
   "cell_type": "code",
   "execution_count": 33,
   "metadata": {
    "scrolled": true
   },
   "outputs": [
    {
     "data": {
      "text/plain": [
       "{'context': [Document(page_content='• Tell people in a single sentence why they should buy from you. \\n• Advertise. \\n• Make your service easy to order or buy. \\n• Talk about the other person, not yourself. \\n• Show that you care passionately about your clients’ business. \\n• Write a mission statement and keep it private. \\n• Draw a clear map. After every missi on statement, add an objectives statement. \\n• If the mission statement doesn’t inspire people to act, change it.', metadata={'source': 'Selling_the_Invisible_A_Field_Guide_to_M.pdf', 'page': 8}),\n",
       "  Document(page_content='are buying an experience. \\n \\nIf you are selling a service, you’re  actually selling a relationship. \\n \\nBefore you try to satisfy your client, understand and satisfy the person. That means knowing his \\nlikes, hobbies, pets, family life, dreams and goals. \\n \\nYour real competition is sitting across the table from you. Plan accordingly. \\n \\nYour prospect faces three options: using your servic e, doing it themselves, or not doing it at all.', metadata={'source': 'Selling_the_Invisible_A_Field_Guide_to_M.pdf', 'page': 3}),\n",
       "  Document(page_content='Make every employee a marketer. The fastest, c heapest way to market your service is through \\nyour employees. Every act, ever y smile, or telephone call is a marketing act upon which your \\nsuccess depends.', metadata={'source': 'Selling_the_Invisible_A_Field_Guide_to_M.pdf', 'page': 2}),\n",
       "  Document(page_content='Selling The Invisible  Page 3 \\nwww.bizsum.com   © 2001, 2002 Copyright BusinessSummaries.com where companies like Disney, FedEx, or Lex us are, giving customers an experience far \\nbeyond anything they could have imagined. \\n \\n• Create the possible service. Don’t just creat e what the market needs or wants. Create \\nwhat it would love. \\n \\n• When conducting a survey, phone or oral surv eys are better methods because you can', metadata={'source': 'Selling_the_Invisible_A_Field_Guide_to_M.pdf', 'page': 2})],\n",
       " 'question': 'How to sell a service ?',\n",
       " 'answer': 'What is the best way to market your service? **Make every employee a marketer.** Thanks for asking!'}"
      ]
     },
     "execution_count": 33,
     "metadata": {},
     "output_type": "execute_result"
    }
   ],
   "source": [
    "rag_chain_with_source.invoke(\"How to sell a service ?\")"
   ]
  },
  {
   "cell_type": "markdown",
   "metadata": {},
   "source": [
    "## Add chat history"
   ]
  },
  {
   "cell_type": "code",
   "execution_count": 34,
   "metadata": {},
   "outputs": [],
   "source": [
    "contextualize_q_system_prompt = \"\"\"Given a chat history and the latest user question \\\n",
    "which might reference context in the chat history, formulate a standalone question \\\n",
    "which can be understood without the chat history. Do NOT answer the question, \\\n",
    "just reformulate it if needed and otherwise return it as is.\"\"\"\n",
    "contextualize_q_prompt = ChatPromptTemplate.from_messages(\n",
    "    [\n",
    "        (\"system\", contextualize_q_system_prompt),\n",
    "        MessagesPlaceholder(variable_name=\"chat_history\"),\n",
    "        (\"human\", \"{question}\"),\n",
    "    ]\n",
    ")\n",
    "contextualize_q_chain = contextualize_q_prompt | chat_model | StrOutputParser()"
   ]
  },
  {
   "cell_type": "code",
   "execution_count": 35,
   "metadata": {},
   "outputs": [],
   "source": [
    "qa_system_prompt = \"\"\"You are an assistant for question-answering tasks. \\\n",
    "Use the following pieces of retrieved context to answer the question. \\\n",
    "Use three sentences maximum and keep the answer concise.\\\n",
    "\n",
    "{context}\"\"\"\n",
    "qa_prompt = ChatPromptTemplate.from_messages(\n",
    "    [\n",
    "        (\"system\", qa_system_prompt),\n",
    "        MessagesPlaceholder(variable_name=\"chat_history\"),\n",
    "        (\"human\", \"{question}\"),\n",
    "    ]\n",
    ")\n",
    "\n",
    "def format_docs(docs):\n",
    "    return \"\\n\\n\".join(doc.page_content for doc in docs)\n",
    "\n",
    "def contextualized_question(input: dict):\n",
    "    if input.get(\"chat_history\"):\n",
    "        return contextualize_q_chain\n",
    "    else:\n",
    "        return input['question']\n",
    "\n",
    "rag_chain = (\n",
    "    RunnablePassthrough.assign(\n",
    "        context=contextualized_question | retriever | format_docs\n",
    "    )\n",
    "    # | RunnablePassthrough.assign(context=(lambda x: format_docs(x[\"chat_history\"])))\n",
    "    | qa_prompt\n",
    "    | chat_model\n",
    ")"
   ]
  },
  {
   "cell_type": "code",
   "execution_count": 36,
   "metadata": {
    "scrolled": true
   },
   "outputs": [
    {
     "data": {
      "text/plain": [
       "AIMessage(content='**Example:**\\n\\n\"Our personalized financial planning service is designed to help you achieve your financial goals, no matter how complex. We take the time to understand your unique needs and aspirations, and create a tailored plan that empowers you to make informed decisions about your financial future.\"')"
      ]
     },
     "execution_count": 36,
     "metadata": {},
     "output_type": "execute_result"
    }
   ],
   "source": [
    "chat_history = []\n",
    "question = \"How to sell a service ?\"\n",
    "ai_msg = rag_chain.invoke({\"question\": question, \"chat_history\": chat_history})\n",
    "chat_history.extend([HumanMessage(content=question), ai_msg])\n",
    "\n",
    "second_question = \"Provide an example !\"\n",
    "rag_chain.invoke({\"question\": second_question, \"chat_history\": chat_history})"
   ]
  },
  {
   "cell_type": "code",
   "execution_count": 37,
   "metadata": {},
   "outputs": [
    {
     "data": {
      "text/plain": [
       "[HumanMessage(content='How to sell a service ?'),\n",
       " AIMessage(content=\"To sell a service effectively, it's crucial to focus on building a relationship with the client by understanding their needs and aspirations. By creating a service that goes beyond their expectations and making it easy to purchase, you can differentiate yourself from competitors and establish a loyal customer base.\")]"
      ]
     },
     "execution_count": 37,
     "metadata": {},
     "output_type": "execute_result"
    }
   ],
   "source": [
    "chat_history"
   ]
  },
  {
   "cell_type": "code",
   "execution_count": null,
   "metadata": {},
   "outputs": [],
   "source": []
  }
 ],
 "metadata": {
  "kernelspec": {
   "display_name": "aikernel",
   "language": "python",
   "name": "aikernel"
  },
  "language_info": {
   "codemirror_mode": {
    "name": "ipython",
    "version": 3
   },
   "file_extension": ".py",
   "mimetype": "text/x-python",
   "name": "python",
   "nbconvert_exporter": "python",
   "pygments_lexer": "ipython3",
   "version": "3.11.7"
  }
 },
 "nbformat": 4,
 "nbformat_minor": 4
}
